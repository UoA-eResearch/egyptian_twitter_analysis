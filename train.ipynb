{
 "cells": [
  {
   "cell_type": "code",
   "execution_count": 12,
   "metadata": {},
   "outputs": [],
   "source": [
    "import numpy as np # linear algebra\n",
    "import pandas as pd # data processing, CSV file I/O (e.g. pd.read_csv)\n",
    "import os\n",
    "import glob\n",
    "from matplotlib import pyplot as plt, colors, ticker\n",
    "from tqdm import tqdm_notebook as tqdm\n",
    "from bs4 import BeautifulSoup\n",
    "import nltk\n",
    "from nltk.tokenize import TweetTokenizer\n",
    "from nltk.corpus import stopwords\n",
    "from itertools import chain\n",
    "from nltk import NaiveBayesClassifier\n",
    "from nltk.classify import accuracy\n",
    "from nltk.metrics.scores import f_measure, precision, recall\n",
    "import re\n",
    "import string\n",
    "import collections\n",
    "import pickle\n",
    "pos = open(\"positive_emoji_v2.csv\").read().split(\",\")\n",
    "neg = open(\"negative_emoji_v2.csv\").read().split(\",\")\n",
    "#print(\"Positive emoji: {}\\n\\nNegative emoji: {}\\n\".format(\"\".join(pos), \"\".join(neg)))\n",
    "files = sorted(glob.glob(\"egypt tweets/egypt_tweets*.csv\"))\n",
    "#print(files)\n",
    "pd.set_option('display.max_colwidth', -1)"
   ]
  },
  {
   "cell_type": "code",
   "execution_count": 2,
   "metadata": {},
   "outputs": [
    {
     "name": "stdout",
     "output_type": "stream",
     "text": [
      "CPU times: user 2.15 s, sys: 114 ms, total: 2.27 s\n",
      "Wall time: 2.28 s\n"
     ]
    }
   ],
   "source": [
    "%%time\n",
    "try:\n",
    "    train = pd.read_csv(\"train.csv\", sep=\";\", engine=\"python\")\n",
    "except:\n",
    "    train = []\n",
    "    for f in tqdm(files):\n",
    "        df = pd.read_csv(f, sep=\";\")\n",
    "        feels = np.zeros(len(df), dtype=int)\n",
    "        for i in tqdm(range(len(df))):\n",
    "            html = df.html[i]\n",
    "            if type(html) != str:\n",
    "                continue\n",
    "            feel = sum([e in html for e in pos]) - sum([e in html for e in neg])\n",
    "            feels[i] = feel\n",
    "        df[\"feel\"] = feels\n",
    "        train.append(df[df.feel != 0])\n",
    "    train = pd.concat(train)\n",
    "    print(len(train))\n",
    "    text_with_emoji = np.empty(len(train), dtype=object)\n",
    "    for i, html in enumerate(tqdm(train.html)):\n",
    "        soup = BeautifulSoup(html, \"lxml\")\n",
    "        s = []\n",
    "        for child in soup.find(\"p\").children:\n",
    "            if child.name == None:\n",
    "                s.append(child)\n",
    "            elif child.name == \"img\":\n",
    "                s.append(child[\"alt\"])\n",
    "            else:\n",
    "                s.append(child.text)\n",
    "        text_with_emoji[i] = \" \".join(s)\n",
    "    train.text = text_with_emoji\n",
    "    train[[\"text\", \"feel\"]].to_csv(\"train.csv\", sep=\";\", index=False)"
   ]
  },
  {
   "cell_type": "code",
   "execution_count": 3,
   "metadata": {},
   "outputs": [
    {
     "data": {
      "image/png": "[encoded data removed]",
      "text/plain": [
       "<matplotlib.figure.Figure at 0x7f395b7df630>"
      ]
     },
     "metadata": {
      "needs_background": "light"
     },
     "output_type": "display_data"
    }
   ],
   "source": [
    "tvc = train.feel.value_counts().sort_index()\n",
    "values = tvc.values\n",
    "keys = tvc.keys()\n",
    "\n",
    "plt.figure(figsize = (10,10))\n",
    "cmap = plt.cm.RdYlGn\n",
    "norm = colors.Normalize(vmin=-5, vmax=5)\n",
    "plt.bar(keys, values, color=cmap(norm(keys)))\n",
    "plt.gca().xaxis.set_major_locator(ticker.MultipleLocator(2))\n",
    "plt.gca().set_yscale('log')\n",
    "plt.title(\"Number of tweets by sentiment\")\n",
    "plt.ylabel(\"Number of tweets, log scale\")\n",
    "plt.xlabel(\"Sentiment score\")\n",
    "\n",
    "for i, v in enumerate(values):\n",
    "    k = keys[i]\n",
    "    plt.text(k, v, v, ha=\"center\", va=\"bottom\")"
   ]
  },
  {
   "cell_type": "code",
   "execution_count": 4,
   "metadata": {
    "scrolled": false
   },
   "outputs": [
    {
     "data": {
      "application/vnd.jupyter.widget-view+json": {
       "model_id": "f833d6c4cc97484786a1a9c08958d464",
       "version_major": 2,
       "version_minor": 0
      },
      "text/plain": [
       "HBox(children=(IntProgress(value=0, max=610907), HTML(value='')))"
      ]
     },
     "metadata": {},
     "output_type": "display_data"
    },
    {
     "name": "stdout",
     "output_type": "stream",
     "text": [
      "\n"
     ]
    },
    {
     "data": {
      "text/html": [
       "<div>\n",
       "<style scoped>\n",
       "    .dataframe tbody tr th:only-of-type {\n",
       "        vertical-align: middle;\n",
       "    }\n",
       "\n",
       "    .dataframe tbody tr th {\n",
       "        vertical-align: top;\n",
       "    }\n",
       "\n",
       "    .dataframe thead th {\n",
       "        text-align: right;\n",
       "    }\n",
       "</style>\n",
       "<table border=\"1\" class=\"dataframe\">\n",
       "  <thead>\n",
       "    <tr style=\"text-align: right;\">\n",
       "      <th></th>\n",
       "      <th>Word</th>\n",
       "      <th>Count</th>\n",
       "    </tr>\n",
       "  </thead>\n",
       "  <tbody>\n",
       "    <tr>\n",
       "      <th>0</th>\n",
       "      <td>😂</td>\n",
       "      <td>636243</td>\n",
       "    </tr>\n",
       "    <tr>\n",
       "      <th>1</th>\n",
       "      <td>…</td>\n",
       "      <td>99283</td>\n",
       "    </tr>\n",
       "    <tr>\n",
       "      <th>2</th>\n",
       "      <td>❤</td>\n",
       "      <td>66171</td>\n",
       "    </tr>\n",
       "    <tr>\n",
       "      <th>3</th>\n",
       "      <td>❤️</td>\n",
       "      <td>63859</td>\n",
       "    </tr>\n",
       "    <tr>\n",
       "      <th>4</th>\n",
       "      <td>و</td>\n",
       "      <td>57607</td>\n",
       "    </tr>\n",
       "    <tr>\n",
       "      <th>5</th>\n",
       "      <td>من</td>\n",
       "      <td>56550</td>\n",
       "    </tr>\n",
       "    <tr>\n",
       "      <th>6</th>\n",
       "      <td>يا</td>\n",
       "      <td>53606</td>\n",
       "    </tr>\n",
       "    <tr>\n",
       "      <th>7</th>\n",
       "      <td>♥️</td>\n",
       "      <td>48580</td>\n",
       "    </tr>\n",
       "    <tr>\n",
       "      <th>8</th>\n",
       "      <td>انا</td>\n",
       "      <td>48154</td>\n",
       "    </tr>\n",
       "    <tr>\n",
       "      <th>9</th>\n",
       "      <td>😍</td>\n",
       "      <td>44950</td>\n",
       "    </tr>\n",
       "    <tr>\n",
       "      <th>10</th>\n",
       "      <td>مش</td>\n",
       "      <td>43581</td>\n",
       "    </tr>\n",
       "    <tr>\n",
       "      <th>11</th>\n",
       "      <td>في</td>\n",
       "      <td>41006</td>\n",
       "    </tr>\n",
       "    <tr>\n",
       "      <th>12</th>\n",
       "      <td>💙</td>\n",
       "      <td>39333</td>\n",
       "    </tr>\n",
       "    <tr>\n",
       "      <th>13</th>\n",
       "      <td>ف</td>\n",
       "      <td>32741</td>\n",
       "    </tr>\n",
       "    <tr>\n",
       "      <th>14</th>\n",
       "      <td>💔</td>\n",
       "      <td>31533</td>\n",
       "    </tr>\n",
       "    <tr>\n",
       "      <th>15</th>\n",
       "      <td>الله</td>\n",
       "      <td>31254</td>\n",
       "    </tr>\n",
       "    <tr>\n",
       "      <th>16</th>\n",
       "      <td>بس</td>\n",
       "      <td>30671</td>\n",
       "    </tr>\n",
       "    <tr>\n",
       "      <th>17</th>\n",
       "      <td>:D</td>\n",
       "      <td>30481</td>\n",
       "    </tr>\n",
       "    <tr>\n",
       "      <th>18</th>\n",
       "      <td>💖</td>\n",
       "      <td>30353</td>\n",
       "    </tr>\n",
       "    <tr>\n",
       "      <th>19</th>\n",
       "      <td>لا</td>\n",
       "      <td>27998</td>\n",
       "    </tr>\n",
       "  </tbody>\n",
       "</table>\n",
       "</div>"
      ],
      "text/plain": [
       "    Word   Count\n",
       "0   😂     636243\n",
       "1   …     99283 \n",
       "2   ❤     66171 \n",
       "3   ❤️    63859 \n",
       "4   و     57607 \n",
       "5   من    56550 \n",
       "6   يا    53606 \n",
       "7   ♥️    48580 \n",
       "8   انا   48154 \n",
       "9   😍     44950 \n",
       "10  مش    43581 \n",
       "11  في    41006 \n",
       "12  💙     39333 \n",
       "13  ف     32741 \n",
       "14  💔     31533 \n",
       "15  الله  31254 \n",
       "16  بس    30671 \n",
       "17  :D    30481 \n",
       "18  💖     30353 \n",
       "19  لا    27998 "
      ]
     },
     "metadata": {},
     "output_type": "display_data"
    }
   ],
   "source": [
    "word_frequencies = {}\n",
    "for tweet in tqdm(train.text):\n",
    "    for word in tweet.split():\n",
    "        word_frequencies[word] = word_frequencies.get(word, 0) + 1\n",
    "\n",
    "words_by_popularity = sorted(word_frequencies.items(), key=lambda kv: kv[1], reverse=True)\n",
    "word_frequencies = pd.DataFrame(words_by_popularity, columns=[\"Word\", \"Count\"])\n",
    "display(word_frequencies.head(20))"
   ]
  },
  {
   "cell_type": "code",
   "execution_count": 74,
   "metadata": {
    "scrolled": true
   },
   "outputs": [
    {
     "name": "stdout",
     "output_type": "stream",
     "text": [
      "5018\n"
     ]
    },
    {
     "data": {
      "application/vnd.jupyter.widget-view+json": {
       "model_id": "0f05a31a6cca4361be4ba01b94b2587b",
       "version_major": 2,
       "version_minor": 0
      },
      "text/plain": [
       "HBox(children=(IntProgress(value=0, max=50000), HTML(value='')))"
      ]
     },
     "metadata": {},
     "output_type": "display_data"
    },
    {
     "name": "stdout",
     "output_type": "stream",
     "text": [
      "50000\n"
     ]
    }
   ],
   "source": [
    "vocab = set(word_frequencies[word_frequencies.Count > 100].Word) - set(pos) - set(neg)\n",
    "print(len(vocab))\n",
    "train_feat = []\n",
    "for i in tqdm(range(50000)):\n",
    "    tweet = train.text[i]\n",
    "    label = \"pos\" if train.feel[i] > 0 else \"neg\"\n",
    "    words = tweet.split()\n",
    "    train_feat.append(({word: word in words for word in vocab}, label))\n",
    "np.random.shuffle(train_feat)\n",
    "print(len(train_feat))"
   ]
  },
  {
   "cell_type": "code",
   "execution_count": 75,
   "metadata": {},
   "outputs": [
    {
     "name": "stdout",
     "output_type": "stream",
     "text": [
      "37500 12500\n"
     ]
    }
   ],
   "source": [
    "i = int(len(train_feat) * .25)\n",
    "xtrain = train_feat[i:]\n",
    "xtest = train_feat[:i]\n",
    "print(len(xtrain), len(xtest))"
   ]
  },
  {
   "cell_type": "code",
   "execution_count": 76,
   "metadata": {},
   "outputs": [
    {
     "name": "stdout",
     "output_type": "stream",
     "text": [
      "CPU times: user 3min 20s, sys: 176 ms, total: 3min 20s\n",
      "Wall time: 3min 20s\n"
     ]
    }
   ],
   "source": [
    "%%time\n",
    "classifier = nltk.NaiveBayesClassifier.train(xtrain)\n",
    "with open('sentiment_classifier_model.pickle', 'wb') as f:\n",
    "    pickle.dump({\n",
    "        \"vocab\": vocab,\n",
    "        \"model\": classifier\n",
    "    }, f)"
   ]
  },
  {
   "cell_type": "code",
   "execution_count": 81,
   "metadata": {},
   "outputs": [
    {
     "name": "stdout",
     "output_type": "stream",
     "text": [
      "Most Informative Features\n",
      "                      :P = True              pos : neg    =     22.3 : 1.0\n",
      "                       🔫 = True              neg : pos    =     18.8 : 1.0\n",
      "                  الحنين = True              neg : pos    =     16.9 : 1.0\n",
      "                    رياض = True              neg : pos    =     16.9 : 1.0\n",
      "                   قادره = True              neg : pos    =     16.9 : 1.0\n",
      "                 الشناوي = True              neg : pos    =     16.9 : 1.0\n",
      "                    بدور = True              neg : pos    =     15.9 : 1.0\n",
      "                     خرا = True              neg : pos    =     15.9 : 1.0\n",
      "                  الصداع = True              neg : pos    =     15.5 : 1.0\n",
      "                   يرحمه = True              neg : pos    =     13.7 : 1.0\n"
     ]
    }
   ],
   "source": [
    "classifier.show_most_informative_features()"
   ]
  },
  {
   "cell_type": "code",
   "execution_count": 82,
   "metadata": {
    "scrolled": false
   },
   "outputs": [
    {
     "name": "stdout",
     "output_type": "stream",
     "text": [
      "Accuracy: 0.85136\n"
     ]
    }
   ],
   "source": [
    "print(\"Accuracy: {}\".format(accuracy(classifier, xtest)))"
   ]
  },
  {
   "cell_type": "code",
   "execution_count": 86,
   "metadata": {},
   "outputs": [
    {
     "data": {
      "text/plain": [
       "'لا انا كنت بالش بس  😂'"
      ]
     },
     "metadata": {},
     "output_type": "display_data"
    },
    {
     "name": "stdout",
     "output_type": "stream",
     "text": [
      "pos\n"
     ]
    },
    {
     "data": {
      "text/plain": [
       "'Work  💪 💪 👷\\u200d♂️  @ Nazlat `Abd Allah, Asyut, Egypt  https://www.instagram.com/ahmedsamiralemam/p/BwIcAgZggDSRKinYhvxRdqrM1Cpv1oFshs0dPQ0/?utm_source=ig_twitter_share&igshid=p9tt8dh09ixz\\xa0…'"
      ]
     },
     "metadata": {},
     "output_type": "display_data"
    },
    {
     "name": "stdout",
     "output_type": "stream",
     "text": [
      "pos\n"
     ]
    },
    {
     "data": {
      "text/plain": [
       "'امييييين ياااارب  💔'"
      ]
     },
     "metadata": {},
     "output_type": "display_data"
    },
    {
     "name": "stdout",
     "output_type": "stream",
     "text": [
      "pos\n"
     ]
    },
    {
     "data": {
      "text/plain": [
       "'قيمي ياشاطره  😂'"
      ]
     },
     "metadata": {},
     "output_type": "display_data"
    },
    {
     "name": "stdout",
     "output_type": "stream",
     "text": [
      "pos\n"
     ]
    },
    {
     "data": {
      "text/plain": [
       "'احنا شعب اووووفر شويتين  😂 😂 😂 😂 😂 😂 https://twitter.com/Nardeen_Adeel/status/1118515134345904128\\xa0…'"
      ]
     },
     "metadata": {},
     "output_type": "display_data"
    },
    {
     "name": "stdout",
     "output_type": "stream",
     "text": [
      "pos\n"
     ]
    },
    {
     "data": {
      "text/plain": [
       "'بيعذبونا عشان اخر سنه  😹 😭 💔'"
      ]
     },
     "metadata": {},
     "output_type": "display_data"
    },
    {
     "name": "stdout",
     "output_type": "stream",
     "text": [
      "pos\n"
     ]
    },
    {
     "data": {
      "text/plain": [
       "'أراك متأثر  😂 😂'"
      ]
     },
     "metadata": {},
     "output_type": "display_data"
    },
    {
     "name": "stdout",
     "output_type": "stream",
     "text": [
      "pos\n"
     ]
    },
    {
     "data": {
      "text/plain": [
       "'بتشل م كدا جدا\\u2066 🤦🏻\\u200d♀️ \\u2069 😂 \\nعشان بضطر امسحها وانزلها تاني 🌝 🌚   https://twitter.com/rashedy_74/status/1146198502571237376\\xa0…'"
      ]
     },
     "metadata": {},
     "output_type": "display_data"
    },
    {
     "name": "stdout",
     "output_type": "stream",
     "text": [
      "neg\n"
     ]
    },
    {
     "data": {
      "text/plain": [
       "'هههههههههههه يخربيتك بجد  😂 👊🏻'"
      ]
     },
     "metadata": {},
     "output_type": "display_data"
    },
    {
     "name": "stdout",
     "output_type": "stream",
     "text": [
      "pos\n"
     ]
    },
    {
     "data": {
      "text/plain": [
       "'😍 💛 💛 🌻 \\n @zoozy_273 https://twitter.com/llncai/status/1140616842794479616\\xa0…'"
      ]
     },
     "metadata": {},
     "output_type": "display_data"
    },
    {
     "name": "stdout",
     "output_type": "stream",
     "text": [
      "pos\n"
     ]
    }
   ],
   "source": [
    "def classify(text):\n",
    "    words = text.split()\n",
    "    features = {word: word in words for word in vocab}\n",
    "    return classifier.classify(features)\n",
    "for tweet in np.random.choice(train.text, 10, replace=False):\n",
    "    display(tweet)\n",
    "    print(classify(tweet))"
   ]
  }
 ],
 "metadata": {
  "kernelspec": {
   "display_name": "Python 3",
   "language": "python",
   "name": "python3"
  },
  "language_info": {
   "codemirror_mode": {
    "name": "ipython",
    "version": 3
   },
   "file_extension": ".py",
   "mimetype": "text/x-python",
   "name": "python",
   "nbconvert_exporter": "python",
   "pygments_lexer": "ipython3",
   "version": "3.6.7"
  }
 },
 "nbformat": 4,
 "nbformat_minor": 2
}
