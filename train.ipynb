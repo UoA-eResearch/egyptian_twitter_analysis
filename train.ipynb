{
 "cells": [
  {
   "cell_type": "code",
   "execution_count": 1,
   "metadata": {},
   "outputs": [
    {
     "name": "stderr",
     "output_type": "stream",
     "text": [
      "/usr/lib/python3.5/importlib/_bootstrap.py:222: RuntimeWarning: numpy.dtype size changed, may indicate binary incompatibility. Expected 96, got 88\n",
      "  return f(*args, **kwds)\n",
      "/usr/lib/python3.5/importlib/_bootstrap.py:222: RuntimeWarning: numpy.dtype size changed, may indicate binary incompatibility. Expected 96, got 88\n",
      "  return f(*args, **kwds)\n",
      "/usr/lib/python3.5/importlib/_bootstrap.py:222: RuntimeWarning: numpy.dtype size changed, may indicate binary incompatibility. Expected 96, got 88\n",
      "  return f(*args, **kwds)\n",
      "/usr/lib/python3.5/importlib/_bootstrap.py:222: RuntimeWarning: numpy.dtype size changed, may indicate binary incompatibility. Expected 96, got 88\n",
      "  return f(*args, **kwds)\n",
      "/usr/lib/python3.5/importlib/_bootstrap.py:222: RuntimeWarning: numpy.dtype size changed, may indicate binary incompatibility. Expected 96, got 88\n",
      "  return f(*args, **kwds)\n",
      "/usr/lib/python3.5/importlib/_bootstrap.py:222: RuntimeWarning: numpy.dtype size changed, may indicate binary incompatibility. Expected 96, got 88\n",
      "  return f(*args, **kwds)\n"
     ]
    }
   ],
   "source": [
    "import numpy as np # linear algebra\n",
    "import pandas as pd # data processing, CSV file I/O (e.g. pd.read_csv)\n",
    "import os\n",
    "import glob\n",
    "from matplotlib import pyplot as plt, colors, ticker\n",
    "from tqdm import tqdm_notebook as tqdm\n",
    "from bs4 import BeautifulSoup\n",
    "import nltk\n",
    "from nltk.tokenize import TweetTokenizer\n",
    "from nltk.corpus import stopwords\n",
    "from itertools import chain\n",
    "from nltk import NaiveBayesClassifier\n",
    "from nltk.classify import accuracy\n",
    "from nltk.metrics.scores import f_measure, precision, recall\n",
    "import re\n",
    "import string\n",
    "import collections\n",
    "import pickle\n",
    "pos = open(\"positive_emoji_v2.csv\").read().split(\",\")\n",
    "neg = open(\"negative_emoji_v2.csv\").read().split(\",\")\n",
    "#print(\"Positive emoji: {}\\n\\nNegative emoji: {}\\n\".format(\"\".join(pos), \"\".join(neg)))\n",
    "files = sorted(glob.glob(\"egypt tweets/egypt_tweets*.csv\"))\n",
    "#print(files)\n",
    "pd.set_option('display.max_colwidth', -1)"
   ]
  },
  {
   "cell_type": "code",
   "execution_count": 2,
   "metadata": {},
   "outputs": [
    {
     "name": "stdout",
     "output_type": "stream",
     "text": [
      "CPU times: user 2.32 s, sys: 154 ms, total: 2.47 s\n",
      "Wall time: 2.48 s\n"
     ]
    }
   ],
   "source": [
    "%%time\n",
    "try:\n",
    "    train = pd.read_csv(\"train.csv\", sep=\";\", engine=\"python\")\n",
    "except:\n",
    "    train = []\n",
    "    for f in tqdm(files):\n",
    "        df = pd.read_csv(f, sep=\";\")\n",
    "        feels = np.zeros(len(df), dtype=int)\n",
    "        for i in tqdm(range(len(df))):\n",
    "            html = df.html[i]\n",
    "            if type(html) != str:\n",
    "                continue\n",
    "            feel = sum([e in html for e in pos]) - sum([e in html for e in neg])\n",
    "            feels[i] = feel\n",
    "        df[\"feel\"] = feels\n",
    "        train.append(df[df.feel != 0])\n",
    "    train = pd.concat(train)\n",
    "    print(len(train))\n",
    "    text_with_emoji = np.empty(len(train), dtype=object)\n",
    "    for i, html in enumerate(tqdm(train.html)):\n",
    "        soup = BeautifulSoup(html, \"lxml\")\n",
    "        s = []\n",
    "        for child in soup.find(\"p\").children:\n",
    "            if child.name == None:\n",
    "                s.append(child)\n",
    "            elif child.name == \"img\":\n",
    "                s.append(child[\"alt\"])\n",
    "            else:\n",
    "                s.append(child.text)\n",
    "        text_with_emoji[i] = \" \".join(s)\n",
    "    train.text = text_with_emoji\n",
    "    train[[\"text\", \"feel\"]].to_csv(\"train.csv\", sep=\";\", index=False)"
   ]
  },
  {
   "cell_type": "code",
   "execution_count": 3,
   "metadata": {},
   "outputs": [
    {
     "data": {
      "image/png": "[encoded data removed]",
      "text/plain": [
       "<Figure size 720x720 with 1 Axes>"
      ]
     },
     "metadata": {},
     "output_type": "display_data"
    }
   ],
   "source": [
    "tvc = train.feel.value_counts().sort_index()\n",
    "values = tvc.values\n",
    "keys = tvc.keys()\n",
    "\n",
    "plt.figure(figsize = (10,10))\n",
    "cmap = plt.cm.RdYlGn\n",
    "norm = colors.Normalize(vmin=-5, vmax=5)\n",
    "plt.bar(keys, values, color=cmap(norm(keys)))\n",
    "plt.gca().xaxis.set_major_locator(ticker.MultipleLocator(2))\n",
    "plt.gca().set_yscale('log')\n",
    "plt.title(\"Number of tweets by sentiment\")\n",
    "plt.ylabel(\"Number of tweets, log scale\")\n",
    "plt.xlabel(\"Sentiment score\")\n",
    "\n",
    "for i, v in enumerate(values):\n",
    "    k = keys[i]\n",
    "    plt.text(k, v, v, ha=\"center\", va=\"bottom\")"
   ]
  },
  {
   "cell_type": "code",
   "execution_count": 4,
   "metadata": {
    "scrolled": false
   },
   "outputs": [
    {
     "data": {
      "application/vnd.jupyter.widget-view+json": {
       "model_id": "9615364ef8114663b6c33582ac881213",
       "version_major": 2,
       "version_minor": 0
      },
      "text/plain": [
       "HBox(children=(IntProgress(value=0, max=610907), HTML(value='')))"
      ]
     },
     "metadata": {},
     "output_type": "display_data"
    },
    {
     "name": "stdout",
     "output_type": "stream",
     "text": [
      "\n"
     ]
    },
    {
     "data": {
      "text/html": [
       "<div>\n",
       "<style scoped>\n",
       "    .dataframe tbody tr th:only-of-type {\n",
       "        vertical-align: middle;\n",
       "    }\n",
       "\n",
       "    .dataframe tbody tr th {\n",
       "        vertical-align: top;\n",
       "    }\n",
       "\n",
       "    .dataframe thead th {\n",
       "        text-align: right;\n",
       "    }\n",
       "</style>\n",
       "<table border=\"1\" class=\"dataframe\">\n",
       "  <thead>\n",
       "    <tr style=\"text-align: right;\">\n",
       "      <th></th>\n",
       "      <th>Word</th>\n",
       "      <th>Count</th>\n",
       "    </tr>\n",
       "  </thead>\n",
       "  <tbody>\n",
       "    <tr>\n",
       "      <th>0</th>\n",
       "      <td>😂</td>\n",
       "      <td>636243</td>\n",
       "    </tr>\n",
       "    <tr>\n",
       "      <th>1</th>\n",
       "      <td>…</td>\n",
       "      <td>99283</td>\n",
       "    </tr>\n",
       "    <tr>\n",
       "      <th>2</th>\n",
       "      <td>❤</td>\n",
       "      <td>66171</td>\n",
       "    </tr>\n",
       "    <tr>\n",
       "      <th>3</th>\n",
       "      <td>❤️</td>\n",
       "      <td>63859</td>\n",
       "    </tr>\n",
       "    <tr>\n",
       "      <th>4</th>\n",
       "      <td>و</td>\n",
       "      <td>57607</td>\n",
       "    </tr>\n",
       "    <tr>\n",
       "      <th>5</th>\n",
       "      <td>من</td>\n",
       "      <td>56550</td>\n",
       "    </tr>\n",
       "    <tr>\n",
       "      <th>6</th>\n",
       "      <td>يا</td>\n",
       "      <td>53606</td>\n",
       "    </tr>\n",
       "    <tr>\n",
       "      <th>7</th>\n",
       "      <td>♥️</td>\n",
       "      <td>48580</td>\n",
       "    </tr>\n",
       "    <tr>\n",
       "      <th>8</th>\n",
       "      <td>انا</td>\n",
       "      <td>48154</td>\n",
       "    </tr>\n",
       "    <tr>\n",
       "      <th>9</th>\n",
       "      <td>😍</td>\n",
       "      <td>44950</td>\n",
       "    </tr>\n",
       "    <tr>\n",
       "      <th>10</th>\n",
       "      <td>مش</td>\n",
       "      <td>43581</td>\n",
       "    </tr>\n",
       "    <tr>\n",
       "      <th>11</th>\n",
       "      <td>في</td>\n",
       "      <td>41006</td>\n",
       "    </tr>\n",
       "    <tr>\n",
       "      <th>12</th>\n",
       "      <td>💙</td>\n",
       "      <td>39333</td>\n",
       "    </tr>\n",
       "    <tr>\n",
       "      <th>13</th>\n",
       "      <td>ف</td>\n",
       "      <td>32741</td>\n",
       "    </tr>\n",
       "    <tr>\n",
       "      <th>14</th>\n",
       "      <td>💔</td>\n",
       "      <td>31533</td>\n",
       "    </tr>\n",
       "    <tr>\n",
       "      <th>15</th>\n",
       "      <td>الله</td>\n",
       "      <td>31254</td>\n",
       "    </tr>\n",
       "    <tr>\n",
       "      <th>16</th>\n",
       "      <td>بس</td>\n",
       "      <td>30671</td>\n",
       "    </tr>\n",
       "    <tr>\n",
       "      <th>17</th>\n",
       "      <td>:D</td>\n",
       "      <td>30481</td>\n",
       "    </tr>\n",
       "    <tr>\n",
       "      <th>18</th>\n",
       "      <td>💖</td>\n",
       "      <td>30353</td>\n",
       "    </tr>\n",
       "    <tr>\n",
       "      <th>19</th>\n",
       "      <td>لا</td>\n",
       "      <td>27998</td>\n",
       "    </tr>\n",
       "  </tbody>\n",
       "</table>\n",
       "</div>"
      ],
      "text/plain": [
       "    Word   Count\n",
       "0   😂     636243\n",
       "1   …     99283 \n",
       "2   ❤     66171 \n",
       "3   ❤️    63859 \n",
       "4   و     57607 \n",
       "5   من    56550 \n",
       "6   يا    53606 \n",
       "7   ♥️    48580 \n",
       "8   انا   48154 \n",
       "9   😍     44950 \n",
       "10  مش    43581 \n",
       "11  في    41006 \n",
       "12  💙     39333 \n",
       "13  ف     32741 \n",
       "14  💔     31533 \n",
       "15  الله  31254 \n",
       "16  بس    30671 \n",
       "17  :D    30481 \n",
       "18  💖     30353 \n",
       "19  لا    27998 "
      ]
     },
     "metadata": {},
     "output_type": "display_data"
    }
   ],
   "source": [
    "word_frequencies = {}\n",
    "for tweet in tqdm(train.text):\n",
    "    for word in tweet.split():\n",
    "        word_frequencies[word] = word_frequencies.get(word, 0) + 1\n",
    "\n",
    "words_by_popularity = sorted(word_frequencies.items(), key=lambda kv: kv[1], reverse=True)\n",
    "word_frequencies = pd.DataFrame(words_by_popularity, columns=[\"Word\", \"Count\"])\n",
    "display(word_frequencies.head(20))"
   ]
  },
  {
   "cell_type": "code",
   "execution_count": 5,
   "metadata": {
    "scrolled": true
   },
   "outputs": [
    {
     "name": "stdout",
     "output_type": "stream",
     "text": [
      "5018\n"
     ]
    },
    {
     "data": {
      "application/vnd.jupyter.widget-view+json": {
       "model_id": "6d26ddbd7ca54544bd014516f311b56c",
       "version_major": 2,
       "version_minor": 0
      },
      "text/plain": [
       "HBox(children=(IntProgress(value=0, max=610907), HTML(value='')))"
      ]
     },
     "metadata": {},
     "output_type": "display_data"
    },
    {
     "name": "stdout",
     "output_type": "stream",
     "text": [
      "\n",
      "610907\n"
     ]
    }
   ],
   "source": [
    "vocab = set(word_frequencies[word_frequencies.Count > 100].Word) - set(pos) - set(neg)\n",
    "print(len(vocab))\n",
    "train_feat = []\n",
    "for i in tqdm(range(len(train))):\n",
    "    tweet = train.text[i]\n",
    "    label = \"pos\" if train.feel[i] > 0 else \"neg\"\n",
    "    words = tweet.split()\n",
    "    train_feat.append(({word: word in words for word in vocab}, label))\n",
    "np.random.shuffle(train_feat)\n",
    "print(len(train_feat))"
   ]
  },
  {
   "cell_type": "code",
   "execution_count": 13,
   "metadata": {},
   "outputs": [
    {
     "name": "stdout",
     "output_type": "stream",
     "text": [
      "600907 10000\n"
     ]
    }
   ],
   "source": [
    "#i = int(len(train_feat) * .25)\n",
    "i = 10000\n",
    "xtrain = train_feat[i:]\n",
    "xtest = train_feat[:i]\n",
    "print(len(xtrain), len(xtest))"
   ]
  },
  {
   "cell_type": "code",
   "execution_count": 14,
   "metadata": {},
   "outputs": [
    {
     "name": "stdout",
     "output_type": "stream",
     "text": [
      "CPU times: user 55min 24s, sys: 22.3 s, total: 55min 47s\n",
      "Wall time: 55min 59s\n"
     ]
    }
   ],
   "source": [
    "%%time\n",
    "classifier = nltk.NaiveBayesClassifier.train(xtrain)\n",
    "with open('sentiment_classifier_model.pickle', 'wb') as f:\n",
    "    pickle.dump({\n",
    "        \"vocab\": vocab,\n",
    "        \"model\": classifier\n",
    "    }, f)"
   ]
  },
  {
   "cell_type": "code",
   "execution_count": 15,
   "metadata": {},
   "outputs": [
    {
     "name": "stdout",
     "output_type": "stream",
     "text": [
      "Most Informative Features\n",
      "                     :(( = True              neg : pos    =   1174.9 : 1.0\n",
      "                   🙇🏻‍♀️ = True              neg : pos    =    210.3 : 1.0\n",
      "                      ♥️ = True              pos : neg    =    128.2 : 1.0\n",
      "                      ☹️ = True              neg : pos    =    122.6 : 1.0\n",
      "                      💃🏻 = True              pos : neg    =     79.5 : 1.0\n",
      "                      ❗️ = True              neg : pos    =     74.8 : 1.0\n",
      "                      ❤️ = True              pos : neg    =     64.9 : 1.0\n",
      "                  وعقبال = True              pos : neg    =     54.0 : 1.0\n",
      "                     rts = True              pos : neg    =     45.5 : 1.0\n",
      "                    :))) = True              pos : neg    =     43.2 : 1.0\n"
     ]
    }
   ],
   "source": [
    "classifier.show_most_informative_features()"
   ]
  },
  {
   "cell_type": "code",
   "execution_count": 16,
   "metadata": {
    "scrolled": false
   },
   "outputs": [
    {
     "name": "stdout",
     "output_type": "stream",
     "text": [
      "Accuracy: 0.851\n",
      "CPU times: user 2min 17s, sys: 368 ms, total: 2min 18s\n",
      "Wall time: 2min 18s\n"
     ]
    }
   ],
   "source": [
    "%%time\n",
    "print(\"Accuracy: {}\".format(accuracy(classifier, xtest)))"
   ]
  },
  {
   "cell_type": "code",
   "execution_count": 17,
   "metadata": {},
   "outputs": [
    {
     "data": {
      "text/plain": [
       "'@NoriAhmed  مش معقوووول  😲'"
      ]
     },
     "metadata": {},
     "output_type": "display_data"
    },
    {
     "name": "stdout",
     "output_type": "stream",
     "text": [
      "pos\n"
     ]
    },
    {
     "data": {
      "text/plain": [
       "'اصلي يا رياسه  👌🏻 😂'"
      ]
     },
     "metadata": {},
     "output_type": "display_data"
    },
    {
     "name": "stdout",
     "output_type": "stream",
     "text": [
      "pos\n"
     ]
    },
    {
     "data": {
      "text/plain": [
       "'#NewProfiePic   🌸 pic.twitter.com/KOTk9OW6yw'"
      ]
     },
     "metadata": {},
     "output_type": "display_data"
    },
    {
     "name": "stdout",
     "output_type": "stream",
     "text": [
      "pos\n"
     ]
    },
    {
     "data": {
      "text/plain": [
       "'@MariOoOmGamal   😒 😒 😒 😒 😒 😒 😒 😒 😒 😒 😒'"
      ]
     },
     "metadata": {},
     "output_type": "display_data"
    },
    {
     "name": "stdout",
     "output_type": "stream",
     "text": [
      "pos\n"
     ]
    },
    {
     "data": {
      "text/plain": [
       "'الشناوي 😥 😥'"
      ]
     },
     "metadata": {},
     "output_type": "display_data"
    },
    {
     "name": "stdout",
     "output_type": "stream",
     "text": [
      "pos\n"
     ]
    },
    {
     "data": {
      "text/plain": [
       "'في شوية عيال خولات محسوبين علي الكورة مشجعين عشان طلعوا لقيوا ابوهم زملكاوي ، بيقعدوا يظيطوا كتير و في اللحظات دي بيعملوا هُبل  😂'"
      ]
     },
     "metadata": {},
     "output_type": "display_data"
    },
    {
     "name": "stdout",
     "output_type": "stream",
     "text": [
      "pos\n"
     ]
    },
    {
     "data": {
      "text/plain": [
       "'الله يبارك فيك يا رائد عبالك يارب ان شاءالله 💙 🌸'"
      ]
     },
     "metadata": {},
     "output_type": "display_data"
    },
    {
     "name": "stdout",
     "output_type": "stream",
     "text": [
      "pos\n"
     ]
    },
    {
     "data": {
      "text/plain": [
       "'كراااااشي الاول والاخير اسروه حبيبي عماله اوزعلو في ابتسامات من ساعة ما شوفتو  😂 😂 😂 😂 😂 😂 😂 ❤️ ❤️'"
      ]
     },
     "metadata": {},
     "output_type": "display_data"
    },
    {
     "name": "stdout",
     "output_type": "stream",
     "text": [
      "pos\n"
     ]
    },
    {
     "data": {
      "text/plain": [
       "'لا بس اقسم بالله انا صممت ودفعت \\nهو مصدق ومشي  😂 😂 😂'"
      ]
     },
     "metadata": {},
     "output_type": "display_data"
    },
    {
     "name": "stdout",
     "output_type": "stream",
     "text": [
      "pos\n"
     ]
    },
    {
     "data": {
      "text/plain": [
       "'😂 😂 😂'"
      ]
     },
     "metadata": {},
     "output_type": "display_data"
    },
    {
     "name": "stdout",
     "output_type": "stream",
     "text": [
      "pos\n"
     ]
    },
    {
     "data": {
      "text/plain": [
       "'بالضبط اوي 😂 😂 😂 😂 😂 🙆🏻\\u200d♀️ https://twitter.com/omarhagag7/status/1134134248594640902\\xa0…'"
      ]
     },
     "metadata": {},
     "output_type": "display_data"
    },
    {
     "name": "stdout",
     "output_type": "stream",
     "text": [
      "pos\n"
     ]
    },
    {
     "data": {
      "text/plain": [
       "'فرحتنى لما عرفت ان مش لوحدى اللى مبذاكرش  😂 😂 😂 💃'"
      ]
     },
     "metadata": {},
     "output_type": "display_data"
    },
    {
     "name": "stdout",
     "output_type": "stream",
     "text": [
      "pos\n"
     ]
    },
    {
     "data": {
      "text/plain": [
       "'من يومها بدأت أول قصتنا\\nفي كتاب الحب اتولدت رقصتنا ♥️ 🎶'"
      ]
     },
     "metadata": {},
     "output_type": "display_data"
    },
    {
     "name": "stdout",
     "output_type": "stream",
     "text": [
      "pos\n"
     ]
    },
    {
     "data": {
      "text/plain": [
       "'لا اقتنعت خلاص  😂 😂 😂 👏'"
      ]
     },
     "metadata": {},
     "output_type": "display_data"
    },
    {
     "name": "stdout",
     "output_type": "stream",
     "text": [
      "pos\n"
     ]
    },
    {
     "data": {
      "text/plain": [
       "'@boddyosama202 \\n #تويب_تقولة_كل_سنة_وانت_طيب \\n ♥'"
      ]
     },
     "metadata": {},
     "output_type": "display_data"
    },
    {
     "name": "stdout",
     "output_type": "stream",
     "text": [
      "pos\n"
     ]
    },
    {
     "data": {
      "text/plain": [
       "'💖 💖 💖 https://twitter.com/KarimHegap/status/1149809065612251136\\xa0…'"
      ]
     },
     "metadata": {},
     "output_type": "display_data"
    },
    {
     "name": "stdout",
     "output_type": "stream",
     "text": [
      "pos\n"
     ]
    },
    {
     "data": {
      "text/plain": [
       "'شكرا ياصحبتي  💔'"
      ]
     },
     "metadata": {},
     "output_type": "display_data"
    },
    {
     "name": "stdout",
     "output_type": "stream",
     "text": [
      "pos\n"
     ]
    },
    {
     "data": {
      "text/plain": [
       "'ما شاء الله قمر  ❤ ❤ ❤ https://twitter.com/osamaarafaa/status/1151979142008791043\\xa0…'"
      ]
     },
     "metadata": {},
     "output_type": "display_data"
    },
    {
     "name": "stdout",
     "output_type": "stream",
     "text": [
      "pos\n"
     ]
    },
    {
     "data": {
      "text/plain": [
       "'كل دا عشان انا صحيت م النوم\\u2066 ♥️ \\u2069 😂 😂 😂 😂 😂'"
      ]
     },
     "metadata": {},
     "output_type": "display_data"
    },
    {
     "name": "stdout",
     "output_type": "stream",
     "text": [
      "pos\n"
     ]
    },
    {
     "data": {
      "text/plain": [
       "'بسم الله الرحمن الرحيم (وَلَئِن سَأَلْتَهُمْ لَيَقُولُنَّ إِنَّمَا كُنَّا نَخُوضُ وَنَلْعَبُ ۚ قُلْ أَبِاللَّهِ وَآيَاتِهِ وَرَسُولِهِ كُنتُمْ تَسْتَهْزِئُونَ)صدق الله العظيم ....يااسفاااه   😭 💔'"
      ]
     },
     "metadata": {},
     "output_type": "display_data"
    },
    {
     "name": "stdout",
     "output_type": "stream",
     "text": [
      "pos\n"
     ]
    }
   ],
   "source": [
    "def classify(text):\n",
    "    words = text.split()\n",
    "    features = {word: word in words for word in vocab}\n",
    "    return classifier.classify(features)\n",
    "for tweet in np.random.choice(train.text, 20, replace=False):\n",
    "    display(tweet)\n",
    "    print(classify(tweet))"
   ]
  }
 ],
 "metadata": {
  "kernelspec": {
   "display_name": "Python 3",
   "language": "python",
   "name": "python3"
  },
  "language_info": {
   "codemirror_mode": {
    "name": "ipython",
    "version": 3
   },
   "file_extension": ".py",
   "mimetype": "text/x-python",
   "name": "python",
   "nbconvert_exporter": "python",
   "pygments_lexer": "ipython3",
   "version": "3.5.2"
  }
 },
 "nbformat": 4,
 "nbformat_minor": 2
}
