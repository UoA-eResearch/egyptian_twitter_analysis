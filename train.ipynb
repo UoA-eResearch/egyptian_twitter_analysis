{
 "cells": [
  {
   "cell_type": "code",
   "execution_count": 1,
   "metadata": {},
   "outputs": [],
   "source": [
    "import numpy as np # linear algebra\n",
    "import pandas as pd # data processing, CSV file I/O (e.g. pd.read_csv)\n",
    "import os\n",
    "import glob\n",
    "from matplotlib import pyplot as plt, colors, ticker\n",
    "from tqdm import tqdm_notebook as tqdm\n",
    "from bs4 import BeautifulSoup\n",
    "import nltk\n",
    "from nltk.tokenize import TweetTokenizer\n",
    "from nltk.corpus import stopwords\n",
    "from itertools import chain\n",
    "from nltk import NaiveBayesClassifier\n",
    "from nltk.classify import accuracy\n",
    "from nltk.metrics.scores import f_measure, precision, recall\n",
    "import re\n",
    "import string\n",
    "import collections\n",
    "import pickle\n",
    "pos = open(\"positive_emoji_v2.csv\").read().split(\",\")\n",
    "neg = open(\"negative_emoji_v2.csv\").read().split(\",\")\n",
    "#print(\"Positive emoji: {}\\n\\nNegative emoji: {}\\n\".format(\"\".join(pos), \"\".join(neg)))\n",
    "files = sorted(glob.glob(\"egypt tweets/egypt_tweets*.csv\"))\n",
    "#print(files)\n",
    "pd.set_option('display.max_colwidth', -1)"
   ]
  },
  {
   "cell_type": "code",
   "execution_count": 2,
   "metadata": {},
   "outputs": [
    {
     "name": "stdout",
     "output_type": "stream",
     "text": [
      "CPU times: user 2.32 s, sys: 154 ms, total: 2.47 s\n",
      "Wall time: 2.48 s\n"
     ]
    }
   ],
   "source": [
    "%%time\n",
    "try:\n",
    "    train = pd.read_csv(\"train.csv\", sep=\";\", engine=\"python\")\n",
    "except:\n",
    "    train = []\n",
    "    for f in tqdm(files):\n",
    "        df = pd.read_csv(f, sep=\";\")\n",
    "        feels = np.zeros(len(df), dtype=int)\n",
    "        for i in tqdm(range(len(df))):\n",
    "            html = df.html[i]\n",
    "            if type(html) != str:\n",
    "                continue\n",
    "            feel = sum([e in html for e in pos]) - sum([e in html for e in neg])\n",
    "            feels[i] = feel\n",
    "        df[\"feel\"] = feels\n",
    "        train.append(df[df.feel != 0])\n",
    "    train = pd.concat(train)\n",
    "    print(len(train))\n",
    "    text_with_emoji = np.empty(len(train), dtype=object)\n",
    "    for i, html in enumerate(tqdm(train.html)):\n",
    "        soup = BeautifulSoup(html, \"lxml\")\n",
    "        s = []\n",
    "        for child in soup.find(\"p\").children:\n",
    "            if child.name == None:\n",
    "                s.append(child)\n",
    "            elif child.name == \"img\":\n",
    "                s.append(child[\"alt\"])\n",
    "            else:\n",
    "                s.append(child.text)\n",
    "        text_with_emoji[i] = \" \".join(s)\n",
    "    train.text = text_with_emoji\n",
    "    train[[\"text\", \"feel\"]].to_csv(\"train.csv\", sep=\";\", index=False)"
   ]
  },
  {
   "cell_type": "code",
   "execution_count": 3,
   "metadata": {},
   "outputs": [
    {
     "data": {
      "image/png": "[encoded data removed]",
      "text/plain": [
       "<Figure size 720x720 with 1 Axes>"
      ]
     },
     "metadata": {},
     "output_type": "display_data"
    }
   ],
   "source": [
    "tvc = train.feel.value_counts().sort_index()\n",
    "values = tvc.values\n",
    "keys = tvc.keys()\n",
    "\n",
    "plt.figure(figsize = (10,10))\n",
    "cmap = plt.cm.RdYlGn\n",
    "norm = colors.Normalize(vmin=-5, vmax=5)\n",
    "plt.bar(keys, values, color=cmap(norm(keys)))\n",
    "plt.gca().xaxis.set_major_locator(ticker.MultipleLocator(2))\n",
    "plt.gca().set_yscale('log')\n",
    "plt.title(\"Number of tweets by sentiment\")\n",
    "plt.ylabel(\"Number of tweets, log scale\")\n",
    "plt.xlabel(\"Sentiment score\")\n",
    "\n",
    "for i, v in enumerate(values):\n",
    "    k = keys[i]\n",
    "    plt.text(k, v, v, ha=\"center\", va=\"bottom\")"
   ]
  },
  {
   "cell_type": "code",
   "execution_count": 4,
   "metadata": {
    "scrolled": false
   },
   "outputs": [
    {
     "data": {
      "application/vnd.jupyter.widget-view+json": {
       "model_id": "9615364ef8114663b6c33582ac881213",
       "version_major": 2,
       "version_minor": 0
      },
      "text/plain": [
       "HBox(children=(IntProgress(value=0, max=610907), HTML(value='')))"
      ]
     },
     "metadata": {},
     "output_type": "display_data"
    },
    {
     "name": "stdout",
     "output_type": "stream",
     "text": [
      "\n"
     ]
    },
    {
     "data": {
      "text/html": [
       "<div>\n",
       "<style scoped>\n",
       "    .dataframe tbody tr th:only-of-type {\n",
       "        vertical-align: middle;\n",
       "    }\n",
       "\n",
       "    .dataframe tbody tr th {\n",
       "        vertical-align: top;\n",
       "    }\n",
       "\n",
       "    .dataframe thead th {\n",
       "        text-align: right;\n",
       "    }\n",
       "</style>\n",
       "<table border=\"1\" class=\"dataframe\">\n",
       "  <thead>\n",
       "    <tr style=\"text-align: right;\">\n",
       "      <th></th>\n",
       "      <th>Word</th>\n",
       "      <th>Count</th>\n",
       "    </tr>\n",
       "  </thead>\n",
       "  <tbody>\n",
       "    <tr>\n",
       "      <th>0</th>\n",
       "      <td>😂</td>\n",
       "      <td>636243</td>\n",
       "    </tr>\n",
       "    <tr>\n",
       "      <th>1</th>\n",
       "      <td>…</td>\n",
       "      <td>99283</td>\n",
       "    </tr>\n",
       "    <tr>\n",
       "      <th>2</th>\n",
       "      <td>❤</td>\n",
       "      <td>66171</td>\n",
       "    </tr>\n",
       "    <tr>\n",
       "      <th>3</th>\n",
       "      <td>❤️</td>\n",
       "      <td>63859</td>\n",
       "    </tr>\n",
       "    <tr>\n",
       "      <th>4</th>\n",
       "      <td>و</td>\n",
       "      <td>57607</td>\n",
       "    </tr>\n",
       "    <tr>\n",
       "      <th>5</th>\n",
       "      <td>من</td>\n",
       "      <td>56550</td>\n",
       "    </tr>\n",
       "    <tr>\n",
       "      <th>6</th>\n",
       "      <td>يا</td>\n",
       "      <td>53606</td>\n",
       "    </tr>\n",
       "    <tr>\n",
       "      <th>7</th>\n",
       "      <td>♥️</td>\n",
       "      <td>48580</td>\n",
       "    </tr>\n",
       "    <tr>\n",
       "      <th>8</th>\n",
       "      <td>انا</td>\n",
       "      <td>48154</td>\n",
       "    </tr>\n",
       "    <tr>\n",
       "      <th>9</th>\n",
       "      <td>😍</td>\n",
       "      <td>44950</td>\n",
       "    </tr>\n",
       "    <tr>\n",
       "      <th>10</th>\n",
       "      <td>مش</td>\n",
       "      <td>43581</td>\n",
       "    </tr>\n",
       "    <tr>\n",
       "      <th>11</th>\n",
       "      <td>في</td>\n",
       "      <td>41006</td>\n",
       "    </tr>\n",
       "    <tr>\n",
       "      <th>12</th>\n",
       "      <td>💙</td>\n",
       "      <td>39333</td>\n",
       "    </tr>\n",
       "    <tr>\n",
       "      <th>13</th>\n",
       "      <td>ف</td>\n",
       "      <td>32741</td>\n",
       "    </tr>\n",
       "    <tr>\n",
       "      <th>14</th>\n",
       "      <td>💔</td>\n",
       "      <td>31533</td>\n",
       "    </tr>\n",
       "    <tr>\n",
       "      <th>15</th>\n",
       "      <td>الله</td>\n",
       "      <td>31254</td>\n",
       "    </tr>\n",
       "    <tr>\n",
       "      <th>16</th>\n",
       "      <td>بس</td>\n",
       "      <td>30671</td>\n",
       "    </tr>\n",
       "    <tr>\n",
       "      <th>17</th>\n",
       "      <td>:D</td>\n",
       "      <td>30481</td>\n",
       "    </tr>\n",
       "    <tr>\n",
       "      <th>18</th>\n",
       "      <td>💖</td>\n",
       "      <td>30353</td>\n",
       "    </tr>\n",
       "    <tr>\n",
       "      <th>19</th>\n",
       "      <td>لا</td>\n",
       "      <td>27998</td>\n",
       "    </tr>\n",
       "  </tbody>\n",
       "</table>\n",
       "</div>"
      ],
      "text/plain": [
       "    Word   Count\n",
       "0   😂     636243\n",
       "1   …     99283 \n",
       "2   ❤     66171 \n",
       "3   ❤️    63859 \n",
       "4   و     57607 \n",
       "5   من    56550 \n",
       "6   يا    53606 \n",
       "7   ♥️    48580 \n",
       "8   انا   48154 \n",
       "9   😍     44950 \n",
       "10  مش    43581 \n",
       "11  في    41006 \n",
       "12  💙     39333 \n",
       "13  ف     32741 \n",
       "14  💔     31533 \n",
       "15  الله  31254 \n",
       "16  بس    30671 \n",
       "17  :D    30481 \n",
       "18  💖     30353 \n",
       "19  لا    27998 "
      ]
     },
     "metadata": {},
     "output_type": "display_data"
    }
   ],
   "source": [
    "word_frequencies = {}\n",
    "for tweet in tqdm(train.text):\n",
    "    for word in tweet.split():\n",
    "        word_frequencies[word] = word_frequencies.get(word, 0) + 1\n",
    "\n",
    "words_by_popularity = sorted(word_frequencies.items(), key=lambda kv: kv[1], reverse=True)\n",
    "word_frequencies = pd.DataFrame(words_by_popularity, columns=[\"Word\", \"Count\"])\n",
    "display(word_frequencies.head(20))"
   ]
  },
  {
   "cell_type": "code",
   "execution_count": 5,
   "metadata": {
    "scrolled": true
   },
   "outputs": [
    {
     "name": "stdout",
     "output_type": "stream",
     "text": [
      "5018\n"
     ]
    },
    {
     "data": {
      "application/vnd.jupyter.widget-view+json": {
       "model_id": "6d26ddbd7ca54544bd014516f311b56c",
       "version_major": 2,
       "version_minor": 0
      },
      "text/plain": [
       "HBox(children=(IntProgress(value=0, max=610907), HTML(value='')))"
      ]
     },
     "metadata": {},
     "output_type": "display_data"
    },
    {
     "name": "stdout",
     "output_type": "stream",
     "text": [
      "\n",
      "610907\n"
     ]
    }
   ],
   "source": [
    "vocab = set(word_frequencies[word_frequencies.Count > 100].Word) - set(pos) - set(neg)\n",
    "print(len(vocab))\n",
    "train_feat = []\n",
    "for i in tqdm(range(len(train))):\n",
    "    tweet = train.text[i]\n",
    "    label = \"pos\" if train.feel[i] > 0 else \"neg\"\n",
    "    words = tweet.split()\n",
    "    train_feat.append(({word: word in words for word in vocab}, label))\n",
    "np.random.shuffle(train_feat)\n",
    "print(len(train_feat))"
   ]
  },
  {
   "cell_type": "code",
   "execution_count": 13,
   "metadata": {},
   "outputs": [
    {
     "name": "stdout",
     "output_type": "stream",
     "text": [
      "600907 10000\n"
     ]
    }
   ],
   "source": [
    "#i = int(len(train_feat) * .25)\n",
    "i = 10000\n",
    "xtrain = train_feat[i:]\n",
    "xtest = train_feat[:i]\n",
    "print(len(xtrain), len(xtest))"
   ]
  },
  {
   "cell_type": "code",
   "execution_count": 14,
   "metadata": {},
   "outputs": [
    {
     "name": "stdout",
     "output_type": "stream",
     "text": [
      "CPU times: user 55min 24s, sys: 22.3 s, total: 55min 47s\n",
      "Wall time: 55min 59s\n"
     ]
    }
   ],
   "source": [
    "%%time\n",
    "classifier = nltk.NaiveBayesClassifier.train(xtrain)\n",
    "with open('sentiment_classifier_model.pickle', 'wb') as f:\n",
    "    pickle.dump({\n",
    "        \"vocab\": vocab,\n",
    "        \"model\": classifier\n",
    "    }, f)"
   ]
  },
  {
   "cell_type": "code",
   "execution_count": 2,
   "metadata": {},
   "outputs": [],
   "source": [
    "with open('sentiment_classifier_model.pickle', 'rb') as f:\n",
    "    pkl = pickle.load(f)\n",
    "    vocab = pkl[\"vocab\"]\n",
    "    classifier = pkl[\"model\"]"
   ]
  },
  {
   "cell_type": "code",
   "execution_count": 4,
   "metadata": {
    "scrolled": false
   },
   "outputs": [
    {
     "name": "stdout",
     "output_type": "stream",
     "text": [
      "Most Informative Features\n",
      "                     :(( = True              neg : pos    =   1174.9 : 1.0\n",
      "                   🙇🏻‍♀️ = True              neg : pos    =    210.3 : 1.0\n",
      "                      ♥️ = True              pos : neg    =    128.2 : 1.0\n",
      "                      ☹️ = True              neg : pos    =    122.6 : 1.0\n",
      "                      💃🏻 = True              pos : neg    =     79.5 : 1.0\n",
      "                      ❗️ = True              neg : pos    =     74.8 : 1.0\n",
      "                      ❤️ = True              pos : neg    =     64.9 : 1.0\n",
      "                  وعقبال = True              pos : neg    =     54.0 : 1.0\n",
      "                     rts = True              pos : neg    =     45.5 : 1.0\n",
      "                    :))) = True              pos : neg    =     43.2 : 1.0\n",
      "                      💪🏻 = True              pos : neg    =     43.1 : 1.0\n",
      "                   يبارك = True              pos : neg    =     38.8 : 1.0\n",
      "                   وبخير = True              pos : neg    =     36.7 : 1.0\n",
      "                      👍🏻 = True              pos : neg    =     35.9 : 1.0\n",
      "                     :)) = True              pos : neg    =     34.6 : 1.0\n",
      "                مبرووووك = True              pos : neg    =     34.2 : 1.0\n",
      "                       💮 = True              pos : neg    =     33.9 : 1.0\n",
      "                      🙌🏻 = True              pos : neg    =     30.7 : 1.0\n",
      "                      👋🏻 = True              pos : neg    =     30.2 : 1.0\n",
      "                 مبروووك = True              pos : neg    =     29.8 : 1.0\n",
      "                      ✋🏻 = True              neg : pos    =     29.8 : 1.0\n",
      "                      🙏🏼 = True              pos : neg    =     29.0 : 1.0\n",
      "                   وبارك = True              pos : neg    =     27.2 : 1.0\n",
      "                      ☀️ = True              pos : neg    =     25.6 : 1.0\n",
      "                      👌🏻 = True              pos : neg    =     23.3 : 1.0\n",
      "                 booking = True              pos : neg    =     22.3 : 1.0\n",
      "                    🙋‍♂️ = True              pos : neg    =     22.2 : 1.0\n",
      "                      ✌️ = True              pos : neg    =     21.3 : 1.0\n",
      "                      ✌🏻 = True              pos : neg    =     21.0 : 1.0\n",
      "               مبروووووك = True              pos : neg    =     20.7 : 1.0\n",
      "                      ✋🏼 = True              neg : pos    =     19.9 : 1.0\n",
      "                      🙏🏻 = True              pos : neg    =     19.6 : 1.0\n",
      "                      👊🏻 = True              pos : neg    =     19.1 : 1.0\n",
      "                   Happy = True              pos : neg    =     18.6 : 1.0\n",
      "                   yalla = True              pos : neg    =     17.9 : 1.0\n",
      "                  ويوفقك = True              pos : neg    =     17.7 : 1.0\n",
      "                   تسلمي = True              pos : neg    =     17.3 : 1.0\n",
      "                   🙆🏻‍♀️ = True              pos : neg    =     17.0 : 1.0\n",
      "                  وسعادة = True              pos : neg    =     16.7 : 1.0\n",
      "                       🔁 = True              pos : neg    =     16.6 : 1.0\n",
      "                      ☕️ = True              pos : neg    =     16.1 : 1.0\n",
      "                      :P = True              pos : neg    =     16.1 : 1.0\n",
      "                   🙆🏻‍♂️ = True              pos : neg    =     15.7 : 1.0\n",
      "                    yala = True              pos : neg    =     15.4 : 1.0\n",
      "              @aboellill = True              pos : neg    =     15.2 : 1.0\n",
      "                 #الهلال = True              pos : neg    =     15.2 : 1.0\n",
      "                    🙋‍♀️ = True              pos : neg    =     15.1 : 1.0\n",
      "                    يسعد = True              pos : neg    =     15.0 : 1.0\n",
      "                      🙏🏽 = True              pos : neg    =     14.2 : 1.0\n",
      "                 largest = True              pos : neg    =     14.1 : 1.0\n",
      "                    sana = True              pos : neg    =     13.9 : 1.0\n",
      "                 وعقبالك = True              pos : neg    =     13.8 : 1.0\n",
      "                   يفرحك = True              pos : neg    =     13.8 : 1.0\n",
      "                    🙆‍♀️ = True              pos : neg    =     13.6 : 1.0\n",
      "                   يرزقك = True              pos : neg    =     13.4 : 1.0\n",
      "                  يخليكي = True              pos : neg    =     13.4 : 1.0\n",
      "                   ybark = True              pos : neg    =     12.7 : 1.0\n",
      "                  تسلملي = True              pos : neg    =     12.6 : 1.0\n",
      "             @MokaFarhat = True              pos : neg    =     12.6 : 1.0\n",
      "                      ;) = True              pos : neg    =     12.2 : 1.0\n",
      "                 وريتويت = True              pos : neg    =     12.2 : 1.0\n",
      "                    صلوا = True              pos : neg    =     12.1 : 1.0\n",
      "                   يوفقك = True              pos : neg    =     12.0 : 1.0\n",
      "                   هتزيد = True              pos : neg    =     11.8 : 1.0\n",
      "                بالتوفيق = True              pos : neg    =     11.4 : 1.0\n",
      "            @eslam_curVa = True              pos : neg    =     11.2 : 1.0\n",
      "                 message = True              pos : neg    =     11.2 : 1.0\n",
      "                  ويكرمك = True              pos : neg    =     11.1 : 1.0\n",
      "                    جلبي = True              pos : neg    =     11.0 : 1.0\n",
      "                   ويجبر = True              pos : neg    =     10.9 : 1.0\n",
      "                  اللهُم = True              pos : neg    =     10.9 : 1.0\n",
      "                 متقلقيش = True              pos : neg    =     10.7 : 1.0\n",
      "                  lovely = True              pos : neg    =     10.6 : 1.0\n",
      "                 الرتويت = True              pos : neg    =     10.6 : 1.0\n",
      "              مبرووووووك = True              pos : neg    =     10.6 : 1.0\n",
      "                       ❎ = True              pos : neg    =     10.5 : 1.0\n",
      "                       🔴 = True              pos : neg    =     10.3 : 1.0\n",
      "                  تحياتي = True              pos : neg    =     10.3 : 1.0\n",
      "                     fav = True              pos : neg    =     10.3 : 1.0\n",
      "                      صل = True              pos : neg    =     10.2 : 1.0\n",
      "                     #me = True              pos : neg    =     10.1 : 1.0\n",
      "                    🙆‍♂️ = True              pos : neg    =     10.0 : 1.0\n",
      "                      🇧🇷 = True              pos : neg    =     10.0 : 1.0\n",
      "                     آله = True              pos : neg    =     10.0 : 1.0\n",
      "                  الوكيل = True              neg : pos    =      9.9 : 1.0\n",
      "                      dm = True              pos : neg    =      9.9 : 1.0\n",
      "                  ونتابع = True              pos : neg    =      9.8 : 1.0\n",
      "                  عجبتني = True              pos : neg    =      9.8 : 1.0\n",
      "                       😹 = True              neg : pos    =      9.7 : 1.0\n",
      "                       👬 = True              pos : neg    =      9.7 : 1.0\n",
      "                  الصداع = True              neg : pos    =      9.7 : 1.0\n",
      "                    طيبة = True              pos : neg    =      9.7 : 1.0\n",
      "                    وفعل = True              pos : neg    =      9.6 : 1.0\n",
      "                  مبرووك = True              pos : neg    =      9.5 : 1.0\n",
      "                   حزينة = True              neg : pos    =      9.4 : 1.0\n",
      "                     sad = True              neg : pos    =      9.1 : 1.0\n",
      "            @MoNaAbdOo93 = True              pos : neg    =      9.1 : 1.0\n",
      "                    تسلم = True              pos : neg    =      8.9 : 1.0\n",
      "                      ☘️ = True              pos : neg    =      8.8 : 1.0\n",
      "                    حسبي = True              neg : pos    =      8.8 : 1.0\n",
      "                 للتويته = True              pos : neg    =      8.6 : 1.0\n",
      "                     :'( = True              neg : pos    =      8.5 : 1.0\n",
      "                  عقبالك = True              pos : neg    =      8.5 : 1.0\n",
      "                   يسعدك = True              pos : neg    =      8.4 : 1.0\n",
      "                      Up = True              pos : neg    =      8.3 : 1.0\n",
      "                 amazing = True              pos : neg    =      8.3 : 1.0\n",
      "         @AICHABENAHMED1 = True              pos : neg    =      8.3 : 1.0\n",
      "                    trip = True              pos : neg    =      8.2 : 1.0\n",
      "                   مبروك = True              pos : neg    =      8.1 : 1.0\n",
      "                     isa = True              pos : neg    =      8.1 : 1.0\n",
      "                  يخليكى = True              pos : neg    =      8.0 : 1.0\n",
      "                    تزود = True              pos : neg    =      8.0 : 1.0\n",
      "                      :p = True              pos : neg    =      8.0 : 1.0\n",
      "                   لقلبك = True              pos : neg    =      7.9 : 1.0\n",
      "                     nty = True              pos : neg    =      7.8 : 1.0\n",
      "                       🌙 = True              pos : neg    =      7.5 : 1.0\n",
      "                       🦅 = True              pos : neg    =      7.5 : 1.0\n",
      "                       ⛅ = True              pos : neg    =      7.5 : 1.0\n",
      "                      ^^ = True              pos : neg    =      7.5 : 1.0\n",
      "                     مسا = True              pos : neg    =      7.5 : 1.0\n",
      "                   يرحمك = True              neg : pos    =      7.4 : 1.0\n",
      "                    عظمة = True              pos : neg    =      7.3 : 1.0\n",
      "                  صباحكم = True              pos : neg    =      7.2 : 1.0\n",
      "                      👏🏻 = True              pos : neg    =      7.1 : 1.0\n",
      "                   يكرمك = True              pos : neg    =      7.1 : 1.0\n",
      "                    anta = True              pos : neg    =      7.0 : 1.0\n",
      "                    برنس = True              pos : neg    =      7.0 : 1.0\n",
      "                    يديم = True              pos : neg    =      7.0 : 1.0\n",
      "                birthday = True              pos : neg    =      7.0 : 1.0\n",
      "                      ⁩⁦ = True              pos : neg    =      7.0 : 1.0\n",
      "                  بخاطرك = True              pos : neg    =      6.9 : 1.0\n",
      "                    اعيط = True              neg : pos    =      6.9 : 1.0\n",
      "                    حزين = True              neg : pos    =      6.8 : 1.0\n",
      "            @merhamattia = True              pos : neg    =      6.8 : 1.0\n",
      "                    عظمه = True              pos : neg    =      6.8 : 1.0\n",
      "              @Arwaaaa__ = True              neg : pos    =      6.7 : 1.0\n",
      "                  اجعلنا = True              pos : neg    =      6.7 : 1.0\n",
      "                  اخوياا = True              pos : neg    =      6.7 : 1.0\n",
      "                   yours = True              pos : neg    =      6.7 : 1.0\n",
      "                   حبيبى = True              pos : neg    =      6.6 : 1.0\n",
      "                     See = True              pos : neg    =      6.6 : 1.0\n",
      "                    تابع = True              pos : neg    =      6.5 : 1.0\n",
      "                   سيارة = True              pos : neg    =      6.5 : 1.0\n",
      "                    Wadi = True              pos : neg    =      6.5 : 1.0\n",
      "                  ومبروك = True              pos : neg    =      6.5 : 1.0\n",
      "                 welcome = True              pos : neg    =      6.5 : 1.0\n",
      "                   حزينه = True              neg : pos    =      6.5 : 1.0\n",
      "                    Love = True              pos : neg    =      6.4 : 1.0\n",
      "                      👏🏼 = True              pos : neg    =      6.4 : 1.0\n",
      "                     وجع = True              neg : pos    =      6.3 : 1.0\n",
      "                  thanks = True              pos : neg    =      6.3 : 1.0\n",
      "                    نورت = True              pos : neg    =      6.3 : 1.0\n",
      "                    اشطا = True              pos : neg    =      6.2 : 1.0\n",
      "                   الوجع = True              neg : pos    =      6.2 : 1.0\n",
      "                    كرهت = True              neg : pos    =      6.2 : 1.0\n",
      "                    طيبه = True              pos : neg    =      6.2 : 1.0\n",
      "                     ندى = True              pos : neg    =      6.2 : 1.0\n",
      "                   thank = True              pos : neg    =      6.1 : 1.0\n",
      "                       ⚘ = True              pos : neg    =      6.1 : 1.0\n",
      "             @NaddaFathy = True              pos : neg    =      6.1 : 1.0\n",
      "                   بلغنا = True              pos : neg    =      6.0 : 1.0\n",
      "                   حببتي = True              pos : neg    =      6.0 : 1.0\n",
      "                 السعاده = True              pos : neg    =      6.0 : 1.0\n",
      "               @dahaaaab = True              pos : neg    =      6.0 : 1.0\n",
      "                       🥰 = True              pos : neg    =      6.0 : 1.0\n",
      "                    تحيا = True              pos : neg    =      6.0 : 1.0\n",
      "                    تعبت = True              neg : pos    =      6.0 : 1.0\n",
      "                    يبلغ = True              pos : neg    =      5.9 : 1.0\n",
      "                  واشوفك = True              pos : neg    =      5.8 : 1.0\n",
      "                     فخر = True              pos : neg    =      5.8 : 1.0\n",
      "                    اوحش = True              neg : pos    =      5.8 : 1.0\n",
      "                  family = True              pos : neg    =      5.8 : 1.0\n",
      "                #fashion = True              pos : neg    =      5.8 : 1.0\n",
      "                       🌍 = True              pos : neg    =      5.7 : 1.0\n",
      "                    أحلى = True              pos : neg    =      5.7 : 1.0\n",
      "                   فلورز = True              pos : neg    =      5.7 : 1.0\n",
      "                      🇨🇦 = True              pos : neg    =      5.7 : 1.0\n",
      "                  الغالي = True              pos : neg    =      5.6 : 1.0\n",
      "          @sweety_mshmsh = True              pos : neg    =      5.6 : 1.0\n",
      "                       🥳 = True              pos : neg    =      5.5 : 1.0\n",
      "                  #Luxor = True              pos : neg    =      5.5 : 1.0\n",
      "                       🔃 = True              pos : neg    =      5.5 : 1.0\n",
      "                  مباركه = True              pos : neg    =      5.4 : 1.0\n",
      "                  ورتويت = True              pos : neg    =      5.4 : 1.0\n",
      "                    حفيظ = True              pos : neg    =      5.4 : 1.0\n",
      "                   جناته = True              neg : pos    =      5.3 : 1.0\n",
      "                    شارك = True              pos : neg    =      5.3 : 1.0\n",
      "                    فيكي = True              pos : neg    =      5.3 : 1.0\n",
      "                   مسخره = True              pos : neg    =      5.3 : 1.0\n",
      "                       💅 = True              pos : neg    =      5.2 : 1.0\n",
      "                 Contact = True              pos : neg    =      5.2 : 1.0\n",
      "                    rbna = True              pos : neg    =      5.2 : 1.0\n",
      "                      :* = True              pos : neg    =      5.2 : 1.0\n",
      "                   رتويت = True              pos : neg    =      5.2 : 1.0\n",
      "                    فيكى = True              pos : neg    =      5.2 : 1.0\n",
      "                   القرف = True              neg : pos    =      5.2 : 1.0\n",
      "                   عقبال = True              pos : neg    =      5.2 : 1.0\n",
      "                 #الاهلي = True              pos : neg    =      5.2 : 1.0\n",
      "                  #happy = True              pos : neg    =      5.2 : 1.0\n",
      "                      ✌🏼 = True              pos : neg    =      5.1 : 1.0\n",
      "                  Follow = True              pos : neg    =      5.1 : 1.0\n",
      "                   حبيبي = True              pos : neg    =      5.1 : 1.0\n",
      "                  حمدلله = True              pos : neg    =      5.1 : 1.0\n",
      "                    هعيط = True              neg : pos    =      5.1 : 1.0\n",
      "                      🙆🏻 = True              pos : neg    =      5.1 : 1.0\n",
      "                    زهقت = True              neg : pos    =      5.1 : 1.0\n",
      "                    صداع = True              neg : pos    =      5.0 : 1.0\n",
      "                   الهاش = True              pos : neg    =      5.0 : 1.0\n",
      "                     Hot = True              pos : neg    =      5.0 : 1.0\n",
      "                   Rayan = True              pos : neg    =      5.0 : 1.0\n",
      "                   يرحمه = True              neg : pos    =      5.0 : 1.0\n",
      "             ههههههههههه = True              pos : neg    =      5.0 : 1.0\n",
      "                    اسوء = True              neg : pos    =      5.0 : 1.0\n",
      "                       🕺 = True              pos : neg    =      5.0 : 1.0\n",
      "                    فسيح = True              neg : pos    =      4.9 : 1.0\n",
      "                      🇩🇿 = True              pos : neg    =      4.9 : 1.0\n",
      "                       🤕 = True              neg : pos    =      4.9 : 1.0\n",
      "                     كُن = True              pos : neg    =      4.9 : 1.0\n",
      "                       ☁ = True              pos : neg    =      4.9 : 1.0\n",
      "                   يسلمك = True              pos : neg    =      4.9 : 1.0\n",
      "                    عنيه = True              neg : pos    =      4.9 : 1.0\n",
      "                   سيدنا = True              pos : neg    =      4.9 : 1.0\n",
      "                    انام = True              neg : pos    =      4.9 : 1.0\n",
      "                   للاسف = True              neg : pos    =      4.9 : 1.0\n",
      "                     tyb = True              pos : neg    =      4.9 : 1.0\n",
      "                       🍫 = True              pos : neg    =      4.8 : 1.0\n",
      "                   ابننا = True              pos : neg    =      4.8 : 1.0\n",
      "                    Edfu = True              pos : neg    =      4.8 : 1.0\n",
      "                    enta = True              pos : neg    =      4.8 : 1.0\n",
      "                 الحلاوة = True              pos : neg    =      4.8 : 1.0\n",
      "                   يخليك = True              pos : neg    =      4.8 : 1.0\n",
      "                    أنام = True              neg : pos    =      4.8 : 1.0\n",
      "                      🇬🇧 = True              neg : pos    =      4.8 : 1.0\n",
      "                   الزفت = True              neg : pos    =      4.7 : 1.0\n",
      "                       🐟 = True              pos : neg    =      4.7 : 1.0\n",
      "                  hahaha = True              pos : neg    =      4.7 : 1.0\n",
      "                  Gouna, = True              pos : neg    =      4.7 : 1.0\n",
      "                    اصعب = True              neg : pos    =      4.6 : 1.0\n",
      "                   النصر = True              pos : neg    =      4.6 : 1.0\n",
      "                    انتِ = True              pos : neg    =      4.6 : 1.0\n",
      "                     hwa = True              pos : neg    =      4.6 : 1.0\n",
      "                  \"اللهم = True              pos : neg    =      4.6 : 1.0\n",
      "                  الجمال = True              pos : neg    =      4.6 : 1.0\n",
      "                     حزن = True              neg : pos    =      4.6 : 1.0\n",
      "                   مبقتش = True              neg : pos    =      4.6 : 1.0\n",
      "                    فخور = True              pos : neg    =      4.6 : 1.0\n",
      "                   الخرا = True              neg : pos    =      4.6 : 1.0\n",
      "                     ليش = True              neg : pos    =      4.5 : 1.0\n",
      "                 #selfie = True              pos : neg    =      4.5 : 1.0\n",
      "                     ملل = True              neg : pos    =      4.5 : 1.0\n",
      "                 Retweet = True              pos : neg    =      4.5 : 1.0\n",
      "                     مات = True              neg : pos    =      4.5 : 1.0\n",
      "                   ميرسي = True              pos : neg    =      4.5 : 1.0\n",
      "                  Thanks = True              pos : neg    =      4.5 : 1.0\n",
      "                       ﷺ = True              pos : neg    =      4.5 : 1.0\n",
      "                       🤘 = True              pos : neg    =      4.5 : 1.0\n",
      "                    أجمل = True              pos : neg    =      4.5 : 1.0\n",
      "                   الزعل = True              neg : pos    =      4.5 : 1.0\n",
      "                     Kol = True              pos : neg    =      4.5 : 1.0\n",
      "                     ألم = True              neg : pos    =      4.5 : 1.0\n",
      "                  زعلانة = True              neg : pos    =      4.4 : 1.0\n",
      "                 بتتمناه = True              pos : neg    =      4.4 : 1.0\n",
      "                 يباركلك = True              pos : neg    =      4.4 : 1.0\n",
      "                     قمر = True              pos : neg    =      4.4 : 1.0\n",
      "                   ويجعل = True              neg : pos    =      4.4 : 1.0\n",
      "                   للأسف = True              neg : pos    =      4.4 : 1.0\n",
      "                    ونعم = True              neg : pos    =      4.4 : 1.0\n",
      "                   عرفتك = True              pos : neg    =      4.4 : 1.0\n",
      "                    hate = True              neg : pos    =      4.4 : 1.0\n",
      "                    اوسخ = True              neg : pos    =      4.4 : 1.0\n",
      "          @yoyoo_mohamed = True              pos : neg    =      4.4 : 1.0\n",
      "                   قادره = True              neg : pos    =      4.4 : 1.0\n",
      "                     تيم = True              pos : neg    =      4.3 : 1.0\n",
      "                  منتهاه = True              pos : neg    =      4.3 : 1.0\n",
      "                      💅🏻 = True              pos : neg    =      4.3 : 1.0\n",
      "                    كرمك = True              pos : neg    =      4.3 : 1.0\n",
      "           ههههههههههههه = True              pos : neg    =      4.3 : 1.0\n",
      "                    aywa = True              pos : neg    =      4.3 : 1.0\n",
      "                     7ad = True              pos : neg    =      4.3 : 1.0\n",
      "                  الفراق = True              neg : pos    =      4.3 : 1.0\n",
      "                 التفكير = True              neg : pos    =      4.3 : 1.0\n",
      "                    قمرز = True              pos : neg    =      4.3 : 1.0\n",
      "                    فشيخ = True              pos : neg    =      4.3 : 1.0\n",
      "                    لولو = True              pos : neg    =      4.3 : 1.0\n",
      "                    ماتت = True              neg : pos    =      4.3 : 1.0\n",
      "                     زفت = True              neg : pos    =      4.2 : 1.0\n",
      "                    I'll = True              pos : neg    =      4.2 : 1.0\n",
      "                    song = True              pos : neg    =      4.2 : 1.0\n",
      "                     هون = True              neg : pos    =      4.2 : 1.0\n",
      "                      xD = True              pos : neg    =      4.2 : 1.0\n",
      "                   سعيده = True              pos : neg    =      4.2 : 1.0\n",
      "                       🌄 = True              pos : neg    =      4.2 : 1.0\n",
      "                   الملل = True              neg : pos    =      4.2 : 1.0\n",
      "                    miss = True              neg : pos    =      4.2 : 1.0\n",
      "                       ⚽ = True              pos : neg    =      4.2 : 1.0\n",
      "                    Wady = True              pos : neg    =      4.2 : 1.0\n",
      "                     آية = True              pos : neg    =      4.2 : 1.0\n",
      "                    aktr = True              pos : neg    =      4.2 : 1.0\n",
      "                   wenta = True              pos : neg    =      4.2 : 1.0\n",
      "                    يبشه = True              neg : pos    =      4.1 : 1.0\n",
      "                    !!!! = True              neg : pos    =      4.1 : 1.0\n",
      "                     حفل = True              pos : neg    =      4.1 : 1.0\n",
      "                   خاطرك = True              pos : neg    =      4.1 : 1.0\n",
      "                       🧡 = True              pos : neg    =      4.1 : 1.0\n",
      "                     نوم = True              neg : pos    =      4.1 : 1.0\n",
      "                   ميرسى = True              pos : neg    =      4.1 : 1.0\n",
      "                    King = True              pos : neg    =      4.1 : 1.0\n",
      "               questions = True              pos : neg    =      4.1 : 1.0\n",
      "                      🇦🇹 = True              pos : neg    =      4.1 : 1.0\n",
      "                     عسل = True              pos : neg    =      4.1 : 1.0\n",
      "                 الكهربا = True              neg : pos    =      4.1 : 1.0\n",
      "                    شهيد = True              neg : pos    =      4.1 : 1.0\n",
      "                   ويفرح = True              pos : neg    =      4.1 : 1.0\n",
      "                    With = True              pos : neg    =      4.1 : 1.0\n",
      "                    أحلي = True              pos : neg    =      4.1 : 1.0\n",
      "                    الحر = True              neg : pos    =      4.0 : 1.0\n",
      "                     لاف = True              pos : neg    =      4.0 : 1.0\n",
      "                  اللايك = True              pos : neg    =      4.0 : 1.0\n",
      "                   صباحك = True              pos : neg    =      4.0 : 1.0\n",
      "                 Welcome = True              pos : neg    =      4.0 : 1.0\n",
      "                      ✊🏻 = True              pos : neg    =      4.0 : 1.0\n",
      "                     دير = True              pos : neg    =      4.0 : 1.0\n",
      "                     ^_^ = True              pos : neg    =      4.0 : 1.0\n",
      "                   اذاكر = True              neg : pos    =      4.0 : 1.0\n",
      "          هههههههههههههه = True              pos : neg    =      4.0 : 1.0\n",
      "                       o = True              pos : neg    =      4.0 : 1.0\n",
      "                      3. = True              pos : neg    =      4.0 : 1.0\n",
      "                   العفو = True              pos : neg    =      4.0 : 1.0\n",
      "                   الشكر = True              pos : neg    =      4.0 : 1.0\n",
      "                    send = True              pos : neg    =      4.0 : 1.0\n",
      "                      41 = True              pos : neg    =      4.0 : 1.0\n",
      "                  اكتئاب = True              neg : pos    =      3.9 : 1.0\n",
      "                   وانتى = True              pos : neg    =      3.9 : 1.0\n",
      "                    تدوم = True              pos : neg    =      3.9 : 1.0\n",
      "                    enty = True              pos : neg    =      3.9 : 1.0\n",
      "                    tour = True              pos : neg    =      3.9 : 1.0\n",
      "                       🤙 = True              pos : neg    =      3.9 : 1.0\n",
      "                   جوايا = True              neg : pos    =      3.9 : 1.0\n",
      "                    Nile = True              pos : neg    =      3.9 : 1.0\n",
      "                   القمر = True              pos : neg    =      3.9 : 1.0\n",
      "                     قرف = True              neg : pos    =      3.9 : 1.0\n",
      "                    بعيط = True              neg : pos    =      3.9 : 1.0\n",
      "                    أحبك = True              pos : neg    =      3.9 : 1.0\n",
      "                   الباك = True              pos : neg    =      3.9 : 1.0\n",
      "                       🧐 = True              neg : pos    =      3.8 : 1.0\n",
      "                   great = True              pos : neg    =      3.8 : 1.0\n",
      "                   جميله = True              pos : neg    =      3.8 : 1.0\n",
      "                     Sea = True              pos : neg    =      3.8 : 1.0\n",
      "                       🍻 = True              pos : neg    =      3.8 : 1.0\n",
      "                    2019 = True              pos : neg    =      3.8 : 1.0\n",
      "                       🦋 = True              pos : neg    =      3.8 : 1.0\n",
      "                     يبو = True              pos : neg    =      3.8 : 1.0\n",
      "                     رحم = True              neg : pos    =      3.8 : 1.0\n",
      "                   الموت = True              neg : pos    =      3.8 : 1.0\n",
      "                       🐒 = True              pos : neg    =      3.8 : 1.0\n",
      "                   البعد = True              neg : pos    =      3.8 : 1.0\n",
      "                  البقاء = True              neg : pos    =      3.8 : 1.0\n",
      "                     fun = True              pos : neg    =      3.8 : 1.0\n",
      "                    e7na = True              pos : neg    =      3.8 : 1.0\n",
      "                     ضحك = True              pos : neg    =      3.8 : 1.0\n",
      "                     ضاع = True              neg : pos    =      3.7 : 1.0\n",
      "                   proud = True              pos : neg    =      3.7 : 1.0\n",
      "https://www.youtube.com/watch?v=3L1l0h8KnNs = True              neg : pos    =      3.7 : 1.0\n",
      "                    زعلت = True              neg : pos    =      3.7 : 1.0\n",
      "                   واحلي = True              pos : neg    =      3.7 : 1.0\n",
      "                 التوفيق = True              pos : neg    =      3.7 : 1.0\n",
      "                   خسارة = True              neg : pos    =      3.7 : 1.0\n",
      "                     عاش = True              pos : neg    =      3.7 : 1.0\n",
      "                    رايق = True              pos : neg    =      3.7 : 1.0\n",
      "                     طاه = True              neg : pos    =      3.7 : 1.0\n",
      "                   الورد = True              pos : neg    =      3.7 : 1.0\n",
      "                       🙃 = True              neg : pos    =      3.7 : 1.0\n",
      "                    ملوك = True              pos : neg    =      3.7 : 1.0\n",
      "                   مبقاش = True              neg : pos    =      3.7 : 1.0\n",
      "                 والسلام = True              pos : neg    =      3.7 : 1.0\n",
      "                  Sokhna = True              pos : neg    =      3.7 : 1.0\n",
      "               beautiful = True              pos : neg    =      3.7 : 1.0\n",
      "                      ?? = True              pos : neg    =      3.6 : 1.0\n",
      "                   الخوف = True              neg : pos    =      3.6 : 1.0\n",
      "                    مشاء = True              pos : neg    =      3.6 : 1.0\n",
      "                       🤨 = True              neg : pos    =      3.6 : 1.0\n",
      "                      فن = True              pos : neg    =      3.6 : 1.0\n",
      "                     Red = True              pos : neg    =      3.6 : 1.0\n",
      "       #مصر_جنوب_افريقيا = True              neg : pos    =      3.6 : 1.0\n",
      "                    بعشق = True              pos : neg    =      3.6 : 1.0\n",
      "            هههههههههههه = True              pos : neg    =      3.6 : 1.0\n",
      "                    وسلم = True              pos : neg    =      3.6 : 1.0\n",
      "              @basbosa10 = True              neg : pos    =      3.6 : 1.0\n",
      "                  وحشتني = True              neg : pos    =      3.6 : 1.0\n",
      "                     gdn = True              pos : neg    =      3.6 : 1.0\n",
      "                     Spa = True              pos : neg    =      3.6 : 1.0\n",
      "                     ابي = True              neg : pos    =      3.6 : 1.0\n",
      "                    shit = True              neg : pos    =      3.6 : 1.0\n",
      "                  ادعولي = True              neg : pos    =      3.6 : 1.0\n",
      "                       🌎 = True              pos : neg    =      3.6 : 1.0\n",
      "                     خرا = True              neg : pos    =      3.6 : 1.0\n",
      "                       ⁩ = True              pos : neg    =      3.6 : 1.0\n",
      "                   جوانا = True              neg : pos    =      3.5 : 1.0\n",
      "                       👇 = True              pos : neg    =      3.5 : 1.0\n",
      "                     دعم = True              pos : neg    =      3.5 : 1.0\n",
      "                    ..!! = True              neg : pos    =      3.5 : 1.0\n",
      "                  Fayoum = True              pos : neg    =      3.5 : 1.0\n",
      "                   الكهف = True              pos : neg    =      3.5 : 1.0\n",
      "                   ونفسي = True              neg : pos    =      3.5 : 1.0\n",
      "                    باذن = True              pos : neg    =      3.5 : 1.0\n",
      "                     سما = True              pos : neg    =      3.5 : 1.0\n",
      "                    فنان = True              pos : neg    =      3.5 : 1.0\n",
      "          @dr_ahmedsami1 = True              pos : neg    =      3.5 : 1.0\n",
      "                    فرحت = True              pos : neg    =      3.5 : 1.0\n",
      "                    تحفة = True              pos : neg    =      3.5 : 1.0\n",
      "                  يخليكم = True              pos : neg    =      3.5 : 1.0\n",
      "                  يسامحك = True              neg : pos    =      3.5 : 1.0\n",
      "                     هوب = True              pos : neg    =      3.5 : 1.0\n",
      "                     صلي = True              pos : neg    =      3.4 : 1.0\n",
      "             #صباح_الخير = True              pos : neg    =      3.4 : 1.0\n",
      "                    لالا = True              pos : neg    =      3.4 : 1.0\n",
      "                  الماده = True              neg : pos    =      3.4 : 1.0\n",
      "                    طاقه = True              neg : pos    =      3.4 : 1.0\n",
      "                   التعب = True              neg : pos    =      3.4 : 1.0\n",
      "                   Hotel = True              pos : neg    =      3.4 : 1.0\n",
      "                      ⁦⁦ = True              pos : neg    =      3.4 : 1.0\n",
      "                   اسافر = True              neg : pos    =      3.4 : 1.0\n",
      "                    بنام = True              neg : pos    =      3.4 : 1.0\n",
      "                    ربيع = True              pos : neg    =      3.4 : 1.0\n",
      "                    اطيب = True              pos : neg    =      3.4 : 1.0\n",
      "                  دائماً = True              pos : neg    =      3.4 : 1.0\n",
      "                     ؟؟؟ = True              neg : pos    =      3.4 : 1.0\n",
      "                   عنيكي = True              pos : neg    =      3.4 : 1.0\n",
      "                   happy = True              pos : neg    =      3.4 : 1.0\n",
      "                      +1 = True              neg : pos    =      3.4 : 1.0\n",
      "                    رجلي = True              neg : pos    =      3.4 : 1.0\n",
      "                   خايفة = True              neg : pos    =      3.4 : 1.0\n",
      "                   كبرنا = True              neg : pos    =      3.4 : 1.0\n",
      "                    النت = True              neg : pos    =      3.4 : 1.0\n",
      "                      🕺🏻 = True              pos : neg    =      3.4 : 1.0\n",
      "                    وحدي = True              neg : pos    =      3.4 : 1.0\n",
      "                       y = True              pos : neg    =      3.4 : 1.0\n",
      "                  حبيبتي = True              pos : neg    =      3.4 : 1.0\n",
      "                    view = True              pos : neg    =      3.4 : 1.0\n",
      "         @Carmen_mostafa = True              pos : neg    =      3.4 : 1.0\n",
      "                   قادرة = True              neg : pos    =      3.3 : 1.0\n",
      "                       🙄 = True              neg : pos    =      3.3 : 1.0\n",
      "                       🕊 = True              pos : neg    =      3.3 : 1.0\n",
      "                استودعتك = True              pos : neg    =      3.3 : 1.0\n",
      "                   الزهق = True              neg : pos    =      3.3 : 1.0\n",
      "                   عيونك = True              pos : neg    =      3.3 : 1.0\n",
      "                الريبلاي = True              pos : neg    =      3.3 : 1.0\n",
      "                  الأقصر = True              pos : neg    =      3.3 : 1.0\n",
      "                    هههه = True              pos : neg    =      3.3 : 1.0\n",
      "                      em = True              pos : neg    =      3.3 : 1.0\n",
      "                     hya = True              pos : neg    =      3.3 : 1.0\n",
      "                   sweet = True              pos : neg    =      3.3 : 1.0\n",
      "                     #tb = True              pos : neg    =      3.3 : 1.0\n",
      "                    يعدي = True              neg : pos    =      3.3 : 1.0\n",
      "                    صاحي = True              neg : pos    =      3.3 : 1.0\n",
      "                     3la = True              pos : neg    =      3.3 : 1.0\n",
      "                     هاش = True              pos : neg    =      3.3 : 1.0\n",
      "                     فيك = True              pos : neg    =      3.3 : 1.0\n",
      "                    ماده = True              neg : pos    =      3.3 : 1.0\n",
      "                     new = True              pos : neg    =      3.3 : 1.0\n",
      "                    منور = True              pos : neg    =      3.3 : 1.0\n",
      "                     ely = True              pos : neg    =      3.3 : 1.0\n",
      "                       🔫 = True              neg : pos    =      3.3 : 1.0\n",
      "                   القطر = True              neg : pos    =      3.3 : 1.0\n",
      "                    حبيب = True              pos : neg    =      3.3 : 1.0\n",
      "                    وجهك = True              pos : neg    =      3.3 : 1.0\n",
      "                   Allah = True              pos : neg    =      3.3 : 1.0\n",
      "                    لايك = True              pos : neg    =      3.2 : 1.0\n",
      "                  Minya, = True              pos : neg    =      3.2 : 1.0\n",
      "                   ارتاح = True              neg : pos    =      3.2 : 1.0\n",
      "                       🍾 = True              pos : neg    =      3.2 : 1.0\n",
      "                      7d = True              pos : neg    =      3.2 : 1.0\n",
      "                 التفاؤل = True              pos : neg    =      3.2 : 1.0\n",
      "                    هنام = True              neg : pos    =      3.2 : 1.0\n",
      "                      3m = True              pos : neg    =      3.2 : 1.0\n",
      "                   إحساس = True              neg : pos    =      3.2 : 1.0\n",
      "                    جعان = True              neg : pos    =      3.2 : 1.0\n",
      "                    علاج = True              neg : pos    =      3.2 : 1.0\n",
      "                 الاجازه = True              neg : pos    =      3.2 : 1.0\n",
      "                     نجم = True              pos : neg    =      3.2 : 1.0\n",
      "                    عياط = True              neg : pos    =      3.2 : 1.0\n",
      "                       Y = True              pos : neg    =      3.2 : 1.0\n",
      "                 الحلاوه = True              pos : neg    =      3.2 : 1.0\n",
      "                       🔐 = True              pos : neg    =      3.2 : 1.0\n",
      "                  متقلقش = True              pos : neg    =      3.2 : 1.0\n",
      "                     ؟!! = True              neg : pos    =      3.2 : 1.0\n",
      "                هههههههه = True              pos : neg    =      3.2 : 1.0\n",
      "                     اين = True              neg : pos    =      3.2 : 1.0\n",
      "                   برافو = True              pos : neg    =      3.2 : 1.0\n",
      "                      🤦🏻 = True              neg : pos    =      3.2 : 1.0\n",
      "                    اجمل = True              pos : neg    =      3.2 : 1.0\n",
      "                   العسل = True              pos : neg    =      3.2 : 1.0\n",
      "                     fel = True              pos : neg    =      3.2 : 1.0\n",
      "                       ❣ = True              pos : neg    =      3.2 : 1.0\n",
      "                   شكرًا = True              pos : neg    =      3.2 : 1.0\n",
      "                   انشاء = True              pos : neg    =      3.2 : 1.0\n",
      "                       ⁦ = True              pos : neg    =      3.2 : 1.0\n",
      "                       👏 = True              pos : neg    =      3.2 : 1.0\n",
      "                      فل = True              pos : neg    =      3.2 : 1.0\n",
      "                  الصلاة = True              pos : neg    =      3.2 : 1.0\n"
     ]
    }
   ],
   "source": [
    "classifier.show_most_informative_features(500)"
   ]
  },
  {
   "cell_type": "code",
   "execution_count": 16,
   "metadata": {
    "scrolled": false
   },
   "outputs": [
    {
     "name": "stdout",
     "output_type": "stream",
     "text": [
      "Accuracy: 0.851\n",
      "CPU times: user 2min 17s, sys: 368 ms, total: 2min 18s\n",
      "Wall time: 2min 18s\n"
     ]
    }
   ],
   "source": [
    "%%time\n",
    "print(\"Accuracy: {}\".format(accuracy(classifier, xtest)))"
   ]
  },
  {
   "cell_type": "code",
   "execution_count": 17,
   "metadata": {},
   "outputs": [
    {
     "data": {
      "text/plain": [
       "'@NoriAhmed  مش معقوووول  😲'"
      ]
     },
     "metadata": {},
     "output_type": "display_data"
    },
    {
     "name": "stdout",
     "output_type": "stream",
     "text": [
      "pos\n"
     ]
    },
    {
     "data": {
      "text/plain": [
       "'اصلي يا رياسه  👌🏻 😂'"
      ]
     },
     "metadata": {},
     "output_type": "display_data"
    },
    {
     "name": "stdout",
     "output_type": "stream",
     "text": [
      "pos\n"
     ]
    },
    {
     "data": {
      "text/plain": [
       "'#NewProfiePic   🌸 pic.twitter.com/KOTk9OW6yw'"
      ]
     },
     "metadata": {},
     "output_type": "display_data"
    },
    {
     "name": "stdout",
     "output_type": "stream",
     "text": [
      "pos\n"
     ]
    },
    {
     "data": {
      "text/plain": [
       "'@MariOoOmGamal   😒 😒 😒 😒 😒 😒 😒 😒 😒 😒 😒'"
      ]
     },
     "metadata": {},
     "output_type": "display_data"
    },
    {
     "name": "stdout",
     "output_type": "stream",
     "text": [
      "pos\n"
     ]
    },
    {
     "data": {
      "text/plain": [
       "'الشناوي 😥 😥'"
      ]
     },
     "metadata": {},
     "output_type": "display_data"
    },
    {
     "name": "stdout",
     "output_type": "stream",
     "text": [
      "pos\n"
     ]
    },
    {
     "data": {
      "text/plain": [
       "'في شوية عيال خولات محسوبين علي الكورة مشجعين عشان طلعوا لقيوا ابوهم زملكاوي ، بيقعدوا يظيطوا كتير و في اللحظات دي بيعملوا هُبل  😂'"
      ]
     },
     "metadata": {},
     "output_type": "display_data"
    },
    {
     "name": "stdout",
     "output_type": "stream",
     "text": [
      "pos\n"
     ]
    },
    {
     "data": {
      "text/plain": [
       "'الله يبارك فيك يا رائد عبالك يارب ان شاءالله 💙 🌸'"
      ]
     },
     "metadata": {},
     "output_type": "display_data"
    },
    {
     "name": "stdout",
     "output_type": "stream",
     "text": [
      "pos\n"
     ]
    },
    {
     "data": {
      "text/plain": [
       "'كراااااشي الاول والاخير اسروه حبيبي عماله اوزعلو في ابتسامات من ساعة ما شوفتو  😂 😂 😂 😂 😂 😂 😂 ❤️ ❤️'"
      ]
     },
     "metadata": {},
     "output_type": "display_data"
    },
    {
     "name": "stdout",
     "output_type": "stream",
     "text": [
      "pos\n"
     ]
    },
    {
     "data": {
      "text/plain": [
       "'لا بس اقسم بالله انا صممت ودفعت \\nهو مصدق ومشي  😂 😂 😂'"
      ]
     },
     "metadata": {},
     "output_type": "display_data"
    },
    {
     "name": "stdout",
     "output_type": "stream",
     "text": [
      "pos\n"
     ]
    },
    {
     "data": {
      "text/plain": [
       "'😂 😂 😂'"
      ]
     },
     "metadata": {},
     "output_type": "display_data"
    },
    {
     "name": "stdout",
     "output_type": "stream",
     "text": [
      "pos\n"
     ]
    },
    {
     "data": {
      "text/plain": [
       "'بالضبط اوي 😂 😂 😂 😂 😂 🙆🏻\\u200d♀️ https://twitter.com/omarhagag7/status/1134134248594640902\\xa0…'"
      ]
     },
     "metadata": {},
     "output_type": "display_data"
    },
    {
     "name": "stdout",
     "output_type": "stream",
     "text": [
      "pos\n"
     ]
    },
    {
     "data": {
      "text/plain": [
       "'فرحتنى لما عرفت ان مش لوحدى اللى مبذاكرش  😂 😂 😂 💃'"
      ]
     },
     "metadata": {},
     "output_type": "display_data"
    },
    {
     "name": "stdout",
     "output_type": "stream",
     "text": [
      "pos\n"
     ]
    },
    {
     "data": {
      "text/plain": [
       "'من يومها بدأت أول قصتنا\\nفي كتاب الحب اتولدت رقصتنا ♥️ 🎶'"
      ]
     },
     "metadata": {},
     "output_type": "display_data"
    },
    {
     "name": "stdout",
     "output_type": "stream",
     "text": [
      "pos\n"
     ]
    },
    {
     "data": {
      "text/plain": [
       "'لا اقتنعت خلاص  😂 😂 😂 👏'"
      ]
     },
     "metadata": {},
     "output_type": "display_data"
    },
    {
     "name": "stdout",
     "output_type": "stream",
     "text": [
      "pos\n"
     ]
    },
    {
     "data": {
      "text/plain": [
       "'@boddyosama202 \\n #تويب_تقولة_كل_سنة_وانت_طيب \\n ♥'"
      ]
     },
     "metadata": {},
     "output_type": "display_data"
    },
    {
     "name": "stdout",
     "output_type": "stream",
     "text": [
      "pos\n"
     ]
    },
    {
     "data": {
      "text/plain": [
       "'💖 💖 💖 https://twitter.com/KarimHegap/status/1149809065612251136\\xa0…'"
      ]
     },
     "metadata": {},
     "output_type": "display_data"
    },
    {
     "name": "stdout",
     "output_type": "stream",
     "text": [
      "pos\n"
     ]
    },
    {
     "data": {
      "text/plain": [
       "'شكرا ياصحبتي  💔'"
      ]
     },
     "metadata": {},
     "output_type": "display_data"
    },
    {
     "name": "stdout",
     "output_type": "stream",
     "text": [
      "pos\n"
     ]
    },
    {
     "data": {
      "text/plain": [
       "'ما شاء الله قمر  ❤ ❤ ❤ https://twitter.com/osamaarafaa/status/1151979142008791043\\xa0…'"
      ]
     },
     "metadata": {},
     "output_type": "display_data"
    },
    {
     "name": "stdout",
     "output_type": "stream",
     "text": [
      "pos\n"
     ]
    },
    {
     "data": {
      "text/plain": [
       "'كل دا عشان انا صحيت م النوم\\u2066 ♥️ \\u2069 😂 😂 😂 😂 😂'"
      ]
     },
     "metadata": {},
     "output_type": "display_data"
    },
    {
     "name": "stdout",
     "output_type": "stream",
     "text": [
      "pos\n"
     ]
    },
    {
     "data": {
      "text/plain": [
       "'بسم الله الرحمن الرحيم (وَلَئِن سَأَلْتَهُمْ لَيَقُولُنَّ إِنَّمَا كُنَّا نَخُوضُ وَنَلْعَبُ ۚ قُلْ أَبِاللَّهِ وَآيَاتِهِ وَرَسُولِهِ كُنتُمْ تَسْتَهْزِئُونَ)صدق الله العظيم ....يااسفاااه   😭 💔'"
      ]
     },
     "metadata": {},
     "output_type": "display_data"
    },
    {
     "name": "stdout",
     "output_type": "stream",
     "text": [
      "pos\n"
     ]
    }
   ],
   "source": [
    "def classify(text):\n",
    "    words = text.split()\n",
    "    features = {word: word in words for word in vocab}\n",
    "    return classifier.classify(features)\n",
    "for tweet in np.random.choice(train.text, 20, replace=False):\n",
    "    display(tweet)\n",
    "    print(classify(tweet))"
   ]
  }
 ],
 "metadata": {
  "kernelspec": {
   "display_name": "Python 3",
   "language": "python",
   "name": "python3"
  },
  "language_info": {
   "codemirror_mode": {
    "name": "ipython",
    "version": 3
   },
   "file_extension": ".py",
   "mimetype": "text/x-python",
   "name": "python",
   "nbconvert_exporter": "python",
   "pygments_lexer": "ipython3",
   "version": "3.6.7"
  }
 },
 "nbformat": 4,
 "nbformat_minor": 2
}
