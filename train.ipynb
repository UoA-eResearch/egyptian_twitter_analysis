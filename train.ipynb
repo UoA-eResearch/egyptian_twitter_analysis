{
 "cells": [
  {
   "cell_type": "code",
   "execution_count": 1,
   "metadata": {},
   "outputs": [],
   "source": [
    "import numpy as np # linear algebra\n",
    "import pandas as pd # data processing, CSV file I/O (e.g. pd.read_csv)\n",
    "import os\n",
    "import glob\n",
    "from tqdm import tqdm_notebook as tqdm\n",
    "from bs4 import BeautifulSoup\n",
    "pos = open(\"positive_emoji_v2.csv\").read().split(\",\")\n",
    "neg = open(\"negative_emoji_v2.csv\").read().split(\",\")\n",
    "#print(\"Positive emoji: {}\\n\\nNegative emoji: {}\\n\".format(\"\".join(pos), \"\".join(neg)))\n",
    "files = sorted(glob.glob(\"egypt tweets/egypt_tweets*.csv\"))\n",
    "#print(files)\n",
    "pd.set_option('display.max_colwidth', -1)"
   ]
  },
  {
   "cell_type": "code",
   "execution_count": 2,
   "metadata": {},
   "outputs": [
    {
     "name": "stdout",
     "output_type": "stream",
     "text": [
      "CPU times: user 2 s, sys: 146 ms, total: 2.14 s\n",
      "Wall time: 2.15 s\n"
     ]
    }
   ],
   "source": [
    "%%time\n",
    "try:\n",
    "    train = pd.read_csv(\"train.csv\", sep=\";\", engine=\"python\")\n",
    "except:\n",
    "    train = []\n",
    "    for f in tqdm(files):\n",
    "        df = pd.read_csv(f, sep=\";\")\n",
    "        feels = np.zeros(len(df), dtype=int)\n",
    "        for i in tqdm(range(len(df))):\n",
    "            html = df.html[i]\n",
    "            if type(html) != str:\n",
    "                continue\n",
    "            feel = sum([e in html for e in pos]) - sum([e in html for e in neg])\n",
    "            feels[i] = feel\n",
    "        df[\"feel\"] = feels\n",
    "        train.append(df[df.feel != 0])\n",
    "    train = pd.concat(train)\n",
    "    print(len(train))\n",
    "    text_with_emoji = np.empty(len(train), dtype=object)\n",
    "    for i, html in enumerate(tqdm(train.html)):\n",
    "        soup = BeautifulSoup(html, \"lxml\")\n",
    "        s = []\n",
    "        for child in soup.find(\"p\").children:\n",
    "            if child.name == None:\n",
    "                s.append(child)\n",
    "            elif child.name == \"img\":\n",
    "                s.append(child[\"alt\"])\n",
    "            else:\n",
    "                s.append(child.text)\n",
    "        text_with_emoji[i] = \" \".join(s)\n",
    "    train.text = text_with_emoji\n",
    "    train[[\"text\", \"feel\"]].to_csv(\"train.csv\", sep=\";\", index=False)"
   ]
  },
  {
   "cell_type": "code",
   "execution_count": null,
   "metadata": {},
   "outputs": [],
   "source": []
  }
 ],
 "metadata": {
  "kernelspec": {
   "display_name": "Python 3",
   "language": "python",
   "name": "python3"
  },
  "language_info": {
   "codemirror_mode": {
    "name": "ipython",
    "version": 3
   },
   "file_extension": ".py",
   "mimetype": "text/x-python",
   "name": "python",
   "nbconvert_exporter": "python",
   "pygments_lexer": "ipython3",
   "version": "3.6.7"
  }
 },
 "nbformat": 4,
 "nbformat_minor": 2
}
