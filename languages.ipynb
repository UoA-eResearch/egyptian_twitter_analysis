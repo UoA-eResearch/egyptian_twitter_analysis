{
 "cells": [
  {
   "cell_type": "code",
   "execution_count": 5,
   "metadata": {},
   "outputs": [],
   "source": [
    "import numpy as np # linear algebra\n",
    "import pandas as pd # data processing, CSV file I/O (e.g. pd.read_csv)\n",
    "import os\n",
    "import glob\n",
    "from tqdm import tqdm_notebook as tqdm\n",
    "files = sorted(glob.glob(\"egypt tweets/egypt_tweets*.csv\"))"
   ]
  },
  {
   "cell_type": "code",
   "execution_count": 16,
   "metadata": {},
   "outputs": [],
   "source": [
    "df = pd.concat(pd.read_csv(f, sep=';') for f in files)"
   ]
  },
  {
   "cell_type": "code",
   "execution_count": 20,
   "metadata": {
    "scrolled": false
   },
   "outputs": [
    {
     "name": "stdout",
     "output_type": "stream",
     "text": [
      "ar     72.942436\n",
      "und    11.601152\n",
      "en      9.321250\n",
      "ja      1.456557\n",
      "in      1.183795\n",
      "es      0.387620\n",
      "fr      0.296948\n",
      "tl      0.291620\n",
      "tr      0.289223\n",
      "ca      0.282883\n",
      "Name: html, dtype: float64\n"
     ]
    }
   ],
   "source": [
    "lang = df.html.str.extract(r'lang=\"(\\w+)\"', expand=False)\n",
    "print(lang.value_counts().head(10) / len(lang) * 100)"
   ]
  },
  {
   "cell_type": "code",
   "execution_count": null,
   "metadata": {},
   "outputs": [],
   "source": []
  }
 ],
 "metadata": {
  "kernelspec": {
   "display_name": "Python 3",
   "language": "python",
   "name": "python3"
  },
  "language_info": {
   "codemirror_mode": {
    "name": "ipython",
    "version": 3
   },
   "file_extension": ".py",
   "mimetype": "text/x-python",
   "name": "python",
   "nbconvert_exporter": "python",
   "pygments_lexer": "ipython3",
   "version": "3.6.7"
  }
 },
 "nbformat": 4,
 "nbformat_minor": 2
}
